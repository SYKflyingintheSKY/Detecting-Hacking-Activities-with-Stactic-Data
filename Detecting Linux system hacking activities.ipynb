{
 "cells": [
  {
   "cell_type": "markdown",
   "metadata": {},
   "source": [
    "# Assignment 2: Detecting Linux system hacking activities\n",
    "\n",
    "#### Student Name: Soyeon Kim"
   ]
  },
  {
   "cell_type": "markdown",
   "metadata": {},
   "source": [
    "## Table of Contents\n",
    "* [1. Data preparation and exploration](#one)\n",
    "    * [1.1 Creating Spark Session](#one1)\n",
    "    * [1.2 Loading the data](#one2)\n",
    "    * [1.3 Exploring the data](#one3)\n",
    "* [2. Feature extraction and ML training](#two) \n",
    "    * [2.1 Preparing the training data and testing data](#two1)\n",
    "    * [2.2 Preparing features, labels and models](#two2)\n",
    "    * [2.3 Training and evaluating models](#two3)\n",
    "* [3. Knowledge sharing](#three) "
   ]
  },
  {
   "cell_type": "markdown",
   "metadata": {},
   "source": [
    "<a class=\"anchor\" name=\"one\"></a>\n",
    "## 1. Data preparation and exploration"
   ]
  },
  {
   "cell_type": "markdown",
   "metadata": {},
   "source": [
    "<a class=\"anchor\" name=\"one1\"></a>\n",
    "## 1.1 Creating Spark Session"
   ]
  },
  {
   "cell_type": "markdown",
   "metadata": {},
   "source": [
    "#### 1. Create a SparkConf object for using as many local cores as possible, for a proper application name, and for changing the max partition byte configuration to enable a minimum of 2 partitions when reading each file in Spark SQL (so each dataframe should have at least 4 partitions when reading from the given datafiles)."
   ]
  },
  {
   "cell_type": "code",
   "execution_count": 1,
   "metadata": {},
   "outputs": [],
   "source": [
    "from pyspark import SparkConf\n",
    "\n",
    "master = \"local[*]\"\n",
    "app_name = \"Detecting Linux system hacking activities\"\n",
    "spark_conf = SparkConf().setMaster(master)\\\n",
    "                        .setAppName(app_name)\\\n",
    "                        .set(\"spark.sql.files.maxPartitionBytes\", 40000000) # more than \"max file size/2\" "
   ]
  },
  {
   "cell_type": "markdown",
   "metadata": {},
   "source": [
    "#### 2. Then create a SparkSession using the SparkConf object."
   ]
  },
  {
   "cell_type": "code",
   "execution_count": 2,
   "metadata": {},
   "outputs": [],
   "source": [
    "from pyspark.sql import SparkSession\n",
    "\n",
    "spark = SparkSession.builder.config(conf=spark_conf).getOrCreate()"
   ]
  },
  {
   "cell_type": "markdown",
   "metadata": {},
   "source": [
    "<a class=\"anchor\" name=\"one2\"></a>\n",
    "## 1.2 Loading the data"
   ]
  },
  {
   "cell_type": "markdown",
   "metadata": {},
   "source": [
    "#### 1. Load each activity data into a Spark dataframe and cache the data. Then print out the row count of each dataframe.\n",
    "#### ○ In order to speed up the loading process, please specify the schema before reading the data into dataframes. You may find relevant schema info from the metadata file, however, note that some data may not fully comply with the schema. For those that do not comply with the schema, import them as StringType and further transform them in step 1.2.2."
   ]
  },
  {
   "cell_type": "markdown",
   "metadata": {},
   "source": [
    "#### <li>  Process activity"
   ]
  },
  {
   "cell_type": "code",
   "execution_count": 3,
   "metadata": {},
   "outputs": [],
   "source": [
    "from pyspark.sql.types import StructType, StructField,  StringType, IntegerType, DoubleType, BinaryType"
   ]
  },
  {
   "cell_type": "code",
   "execution_count": 4,
   "metadata": {},
   "outputs": [],
   "source": [
    "# schema of process activity\n",
    "process_schema = StructType([\n",
    "    StructField(\"ts\", IntegerType(), True),      \n",
    "    StructField(\"PID\", IntegerType(), True),\n",
    "    StructField(\"TRUN\", IntegerType(), True),\n",
    "    StructField(\"TSLPI\", IntegerType(), True),\n",
    "    StructField(\"TSLPU\", IntegerType(), True),\n",
    "    StructField(\"POLI\", StringType(), True),\n",
    "    StructField(\"NICE\", IntegerType(), True),\n",
    "    StructField(\"PRI\", IntegerType(), True),\n",
    "    StructField(\"RTPR\", IntegerType(), True),\n",
    "    StructField(\"CPUNR\", IntegerType(), True),\n",
    "    StructField(\"Status\", StringType(), True),\n",
    "    StructField(\"EXC\", IntegerType(), True),\n",
    "    StructField(\"State\", StringType(), True),\n",
    "    StructField(\"CPU\", DoubleType(), True),\n",
    "    StructField(\"CMD\", StringType(), True),\n",
    "    StructField(\"attack\", IntegerType(), True),\n",
    "    StructField(\"type\", StringType(), True),\n",
    "])"
   ]
  },
  {
   "cell_type": "code",
   "execution_count": 5,
   "metadata": {},
   "outputs": [],
   "source": [
    "# Load each csv file for process activity\n",
    "process_df = spark.read.format('csv')\\\n",
    "            .option('header',True)\\\n",
    "            .option('escape','\"')\\\n",
    "            .schema(process_schema)\\\n",
    "            .load('linux_process_*.csv')"
   ]
  },
  {
   "cell_type": "code",
   "execution_count": 6,
   "metadata": {},
   "outputs": [
    {
     "data": {
      "text/plain": [
       "DataFrame[ts: int, PID: int, TRUN: int, TSLPI: int, TSLPU: int, POLI: string, NICE: int, PRI: int, RTPR: int, CPUNR: int, Status: string, EXC: int, State: string, CPU: double, CMD: string, attack: int, type: string]"
      ]
     },
     "execution_count": 6,
     "metadata": {},
     "output_type": "execute_result"
    }
   ],
   "source": [
    "# Cache the data\n",
    "process_df.cache()"
   ]
  },
  {
   "cell_type": "code",
   "execution_count": 7,
   "metadata": {},
   "outputs": [
    {
     "data": {
      "text/plain": [
       "4"
      ]
     },
     "execution_count": 7,
     "metadata": {},
     "output_type": "execute_result"
    }
   ],
   "source": [
    "# Check the number of partitions of process_df\n",
    "process_df.rdd.getNumPartitions()"
   ]
  },
  {
   "cell_type": "code",
   "execution_count": 8,
   "metadata": {
    "scrolled": true
   },
   "outputs": [
    {
     "data": {
      "text/plain": [
       "1927968"
      ]
     },
     "execution_count": 8,
     "metadata": {},
     "output_type": "execute_result"
    }
   ],
   "source": [
    "# row count of process_df\n",
    "process_df.count()"
   ]
  },
  {
   "cell_type": "code",
   "execution_count": 9,
   "metadata": {},
   "outputs": [
    {
     "name": "stdout",
     "output_type": "stream",
     "text": [
      "+----------+----+----+-----+-----+----+----+---+----+-----+------+---+-----+----+--------------+------+------+\n",
      "|        ts| PID|TRUN|TSLPI|TSLPU|POLI|NICE|PRI|RTPR|CPUNR|Status|EXC|State| CPU|           CMD|attack|  type|\n",
      "+----------+----+----+-----+-----+----+----+---+----+-----+------+---+-----+----+--------------+------+------+\n",
      "|1556739928|2579|   0|    1|    0|norm|   0|120|   0|    0|     -|  0|    S| 0.0|upstart-dbus-b|     0|normal|\n",
      "|1556739933|3739|   0|    1|    0|norm|   0|120|   0|    0|     -|  0|    S| 0.0|   kworker/0:1|     0|normal|\n",
      "|1556739938|3752|   0|    4|    0|norm|   0|120|   0|    1|     -|  0|    S| 0.0|gnome-terminal|     0|normal|\n",
      "|1556739943|2596|   0|    4|    0|norm|   0|120|   0|    3|     -|  0|    S| 0.0|unity-settings|     0|normal|\n",
      "|1556739948|1400|   0|    1|    0|norm|   0|120|   0|    2|     -|  0|    S| 0.0|    irqbalance|     0|normal|\n",
      "|1556739953|3793|   1|   10|    0|norm|   0|120|   0|    0|     -|  0|    S|1.01|         drone|     0|normal|\n",
      "|1556739958|2906|   0|    5|    0|norm|   0|120|   0|    1|     -|  0|    S|0.02|        compiz|     0|normal|\n",
      "|1556739963|3790|   0|    3|    0|norm|   0|120|   0|    1|     -|  0|    S|0.02|      ostinato|     0|normal|\n",
      "|1556739968|3897|   0|    1|    0|norm|  20|100|   0|    2|     -|  0|    S|0.01|          atop|     0|normal|\n",
      "|1556739973|3894|   1|    0|    0|norm|  20|100|   0|    1|     -|  0|    R|0.01|          atop|     0|normal|\n",
      "+----------+----+----+-----+-----+----+----+---+----+-----+------+---+-----+----+--------------+------+------+\n",
      "only showing top 10 rows\n",
      "\n"
     ]
    }
   ],
   "source": [
    "# have a look at the data of process_df\n",
    "process_df.show(10)"
   ]
  },
  {
   "cell_type": "markdown",
   "metadata": {},
   "source": [
    "#### <li>  Memory activity"
   ]
  },
  {
   "cell_type": "code",
   "execution_count": 10,
   "metadata": {},
   "outputs": [],
   "source": [
    "# schema of memory activity\n",
    "memory_schema = StructType([\n",
    "    StructField(\"ts\", IntegerType(), True),        \n",
    "    StructField(\"PID\", IntegerType(), True),\n",
    "    StructField(\"MINFLT\", DoubleType(), True),\n",
    "    StructField(\"MAJFLT\", DoubleType(), True),\n",
    "    StructField(\"VSTEXT\", DoubleType(), True),\n",
    "    StructField(\"VSIZE\", DoubleType(), True),\n",
    "    StructField(\"RSIZE\", DoubleType(), True),\n",
    "    StructField(\"VGROW\", DoubleType(), True),\n",
    "    StructField(\"RGROW\", DoubleType(), True),\n",
    "    StructField(\"MEM\", DoubleType(), True),    \n",
    "    StructField(\"CMD\", StringType(), True),\n",
    "    StructField(\"attack\", IntegerType(), True),\n",
    "    StructField(\"type\", StringType(), True),\n",
    "])"
   ]
  },
  {
   "cell_type": "code",
   "execution_count": 11,
   "metadata": {},
   "outputs": [],
   "source": [
    "# Load each csv file for memory activity\n",
    "memory_df = spark.read.format('csv')\\\n",
    "            .option('header',True).option('escape','\"')\\\n",
    "            .schema(memory_schema)\\\n",
    "            .load('linux_memory_*.csv')"
   ]
  },
  {
   "cell_type": "code",
   "execution_count": 12,
   "metadata": {},
   "outputs": [
    {
     "data": {
      "text/plain": [
       "DataFrame[ts: int, PID: int, MINFLT: double, MAJFLT: double, VSTEXT: double, VSIZE: double, RSIZE: double, VGROW: double, RGROW: double, MEM: double, CMD: string, attack: int, type: string]"
      ]
     },
     "execution_count": 12,
     "metadata": {},
     "output_type": "execute_result"
    }
   ],
   "source": [
    "# Cache the data\n",
    "memory_df.cache()"
   ]
  },
  {
   "cell_type": "code",
   "execution_count": 13,
   "metadata": {},
   "outputs": [
    {
     "data": {
      "text/plain": [
       "4"
      ]
     },
     "execution_count": 13,
     "metadata": {},
     "output_type": "execute_result"
    }
   ],
   "source": [
    "# Check the number of partitions of memory_df\n",
    "memory_df.rdd.getNumPartitions()"
   ]
  },
  {
   "cell_type": "code",
   "execution_count": 14,
   "metadata": {},
   "outputs": [
    {
     "data": {
      "text/plain": [
       "2000000"
      ]
     },
     "execution_count": 14,
     "metadata": {},
     "output_type": "execute_result"
    }
   ],
   "source": [
    "# row count of memory_df\n",
    "memory_df.count()"
   ]
  },
  {
   "cell_type": "code",
   "execution_count": 15,
   "metadata": {},
   "outputs": [
    {
     "name": "stdout",
     "output_type": "stream",
     "text": [
      "+----------+----+------+------+------+-------+------+-----+-----+---+--------------+------+------+\n",
      "|        ts| PID|MINFLT|MAJFLT|VSTEXT|  VSIZE| RSIZE|VGROW|RGROW|MEM|           CMD|attack|  type|\n",
      "+----------+----+------+------+------+-------+------+-----+-----+---+--------------+------+------+\n",
      "|1556743448|2123|   9.0|   0.0| 596.0|  191.7|4712.0|  0.0|  0.0|0.0|       apache2|     0|normal|\n",
      "|1556743453|2925|   0.0|   0.0| 350.0|  315.3|4596.0|  0.0|  0.0|0.0|mission-contro|     0|normal|\n",
      "|1556743458|1192|   2.0|   0.0|1071.0|  342.1|4528.0|  0.0|  0.0|0.0|NetworkManager|     0|normal|\n",
      "|1556743463|1404|   0.0|   0.0|  47.0|  505.2|3584.0|  0.0|  0.0|0.0|      whoopsie|     0|normal|\n",
      "|1556743468|3238|   0.0|   0.0|  18.0|  368.9|3516.0|  0.0|  0.0|0.0|deja-dup-monit|     0|normal|\n",
      "|1556743473|3897|1928.0|   0.0| 148.0|17944.0|2604.0|  0.0|  0.0|0.0|          atop|     0|normal|\n",
      "|1556743478|3894|1927.0|   0.0| 148.0|17664.0|2480.0|  0.0|  0.0|0.0|          atop|     0|normal|\n",
      "|1556743483|3895|1927.0|   0.0| 148.0|17644.0|2464.0|  0.0|  0.0|0.0|          atop|     0|normal|\n",
      "|1556743488|3896|1928.0|   0.0| 148.0|17624.0|2452.0|  0.0|  0.0|0.0|          atop|     0|normal|\n",
      "|1556743493|2433|   0.0|   0.0| 415.0|40368.0|2300.0|  0.0|  0.0|0.0|   dbus-daemon|     0|normal|\n",
      "+----------+----+------+------+------+-------+------+-----+-----+---+--------------+------+------+\n",
      "only showing top 10 rows\n",
      "\n"
     ]
    }
   ],
   "source": [
    "# have a look at the data of memory_df\n",
    "memory_df.show(10)"
   ]
  },
  {
   "cell_type": "markdown",
   "metadata": {},
   "source": [
    "#### 2. For each column in each dataframe above,"
   ]
  },
  {
   "cell_type": "markdown",
   "metadata": {},
   "source": [
    "#### ○ Check the null data (if any) and print out the corresponding count in each column"
   ]
  },
  {
   "cell_type": "code",
   "execution_count": 16,
   "metadata": {},
   "outputs": [],
   "source": [
    "from pyspark.sql.functions import isnan, when, count, col"
   ]
  },
  {
   "cell_type": "markdown",
   "metadata": {},
   "source": [
    "#### <li>  Process activity"
   ]
  },
  {
   "cell_type": "code",
   "execution_count": 17,
   "metadata": {
    "scrolled": true
   },
   "outputs": [
    {
     "name": "stdout",
     "output_type": "stream",
     "text": [
      "+---+---+----+-----+-----+----+----+---+----+-----+------+---+-----+---+---+------+----+\n",
      "| ts|PID|TRUN|TSLPI|TSLPU|POLI|NICE|PRI|RTPR|CPUNR|Status|EXC|State|CPU|CMD|attack|type|\n",
      "+---+---+----+-----+-----+----+----+---+----+-----+------+---+-----+---+---+------+----+\n",
      "|  0|  0|   0|    0|    0|   0|   0|  0|   0|    0|     0|  0|    0|  0|  0|     0|   0|\n",
      "+---+---+----+-----+-----+----+----+---+----+-----+------+---+-----+---+---+------+----+\n",
      "\n"
     ]
    }
   ],
   "source": [
    "# check the null data in process_df\n",
    "process_df.select([count(when(isnan(c) | col(c).isNull(), c)).alias(c) for c in process_df.columns]).show()"
   ]
  },
  {
   "cell_type": "markdown",
   "metadata": {},
   "source": [
    "#### <li>  Memory activity"
   ]
  },
  {
   "cell_type": "code",
   "execution_count": 18,
   "metadata": {},
   "outputs": [
    {
     "name": "stdout",
     "output_type": "stream",
     "text": [
      "+---+---+------+------+------+-----+-----+-----+-----+---+---+------+----+\n",
      "| ts|PID|MINFLT|MAJFLT|VSTEXT|VSIZE|RSIZE|VGROW|RGROW|MEM|CMD|attack|type|\n",
      "+---+---+------+------+------+-----+-----+-----+-----+---+---+------+----+\n",
      "|  0|  0|  9737|  8800|  8800|    0| 9728|49552| 9737|  0|  0|     0|   0|\n",
      "+---+---+------+------+------+-----+-----+-----+-----+---+---+------+----+\n",
      "\n"
     ]
    }
   ],
   "source": [
    "# check the null data in memory_df\n",
    "memory_df.select([count(when(isnan(c) | col(c).isNull(), c)).alias(c) for c in memory_df.columns]).show()"
   ]
  },
  {
   "cell_type": "markdown",
   "metadata": {},
   "source": [
    "#### ○ Are these columns 'MINFLT', 'MAJFLT', 'VSTEXT', 'RSIZE', 'VGROW', 'RGROW' in memory data following the datatype from the metadata file? If not, please transform them into the proper formats"
   ]
  },
  {
   "cell_type": "markdown",
   "metadata": {},
   "source": [
    "No they don't follow the datatype from the metadata file, since they have a large number of null values. To investigate what these null values originally are, and how they become null, we will import those columns as StringType and do the further transformations."
   ]
  },
  {
   "cell_type": "code",
   "execution_count": 19,
   "metadata": {},
   "outputs": [],
   "source": [
    "# change the schema of memory activity\n",
    "memory_schema_new = StructType([\n",
    "    StructField(\"ts\", IntegerType(), True),         \n",
    "    StructField(\"PID\", IntegerType(), True),\n",
    "    StructField(\"MINFLT\", StringType(), True),\n",
    "    StructField(\"MAJFLT\", StringType(), True),\n",
    "    StructField(\"VSTEXT\", StringType(), True),\n",
    "    StructField(\"VSIZE\", DoubleType(), True),\n",
    "    StructField(\"RSIZE\", StringType(), True),\n",
    "    StructField(\"VGROW\", StringType(), True),\n",
    "    StructField(\"RGROW\", StringType(), True),\n",
    "    StructField(\"MEM\", DoubleType(), True),    \n",
    "    StructField(\"CMD\", StringType(), True),\n",
    "    StructField(\"attack\", IntegerType(), True),\n",
    "    StructField(\"type\", StringType(), True),\n",
    "])"
   ]
  },
  {
   "cell_type": "code",
   "execution_count": 20,
   "metadata": {},
   "outputs": [],
   "source": [
    "# Load each csv file for memory activity following the new schema\n",
    "memory_df_new = spark.read.format('csv')\\\n",
    "            .option('header',True).option('escape','\"')\\\n",
    "            .schema(memory_schema_new)\\\n",
    "            .load('linux_memory_*.csv')"
   ]
  },
  {
   "cell_type": "code",
   "execution_count": 21,
   "metadata": {},
   "outputs": [
    {
     "data": {
      "text/plain": [
       "DataFrame[ts: int, PID: int, MINFLT: string, MAJFLT: string, VSTEXT: string, VSIZE: double, RSIZE: string, VGROW: string, RGROW: string, MEM: double, CMD: string, attack: int, type: string]"
      ]
     },
     "execution_count": 21,
     "metadata": {},
     "output_type": "execute_result"
    }
   ],
   "source": [
    "# Cache the data\n",
    "memory_df_new.cache()"
   ]
  },
  {
   "cell_type": "code",
   "execution_count": 22,
   "metadata": {},
   "outputs": [
    {
     "name": "stdout",
     "output_type": "stream",
     "text": [
      "+---+---+------+------+------+-----+-----+-----+-----+---+---+------+----+\n",
      "| ts|PID|MINFLT|MAJFLT|VSTEXT|VSIZE|RSIZE|VGROW|RGROW|MEM|CMD|attack|type|\n",
      "+---+---+------+------+------+-----+-----+-----+-----+---+---+------+----+\n",
      "|  0|  0|     0|     0|     0|    0|    0|    0|    0|  0|  0|     0|   0|\n",
      "+---+---+------+------+------+-----+-----+-----+-----+---+---+------+----+\n",
      "\n"
     ]
    }
   ],
   "source": [
    "# check the null data in memory_df_new\n",
    "memory_df_new.select([count(when(isnan(c) | col(c).isNull(), c)).alias(c) for c in memory_df_new.columns]).show()"
   ]
  },
  {
   "cell_type": "markdown",
   "metadata": {},
   "source": [
    "We will explore each of those columns to check what the null values were."
   ]
  },
  {
   "cell_type": "markdown",
   "metadata": {},
   "source": [
    "##### <li> 'MINFLT'"
   ]
  },
  {
   "cell_type": "code",
   "execution_count": 23,
   "metadata": {
    "scrolled": false
   },
   "outputs": [
    {
     "name": "stdout",
     "output_type": "stream",
     "text": [
      "+----------+-----+------+------+------+-----+-----+-----+-----+---+-------+------+------+\n",
      "|        ts|  PID|MINFLT|MAJFLT|VSTEXT|VSIZE|RSIZE|VGROW|RGROW|MEM|    CMD|attack|  type|\n",
      "+----------+-----+------+------+------+-----+-----+-----+-----+---+-------+------+------+\n",
      "|1556203721|10000|  null|  null|  null|  0.0| null| null| null|0.0|apache2|     0|normal|\n",
      "|1556203726|10001|  null|  null|  null|  0.0| null| null| null|0.0|apache2|     0|normal|\n",
      "|1556203731|10002|  null|  null|  null|  0.0| null| null| null|0.0|apache2|     0|normal|\n",
      "|1556203741|10004|  null|  null|  null|  0.0| null| null| null|0.0|apache2|     0|normal|\n",
      "|1556203746|10005|  null|  null|  null|  0.0| null| null| null|0.0|apache2|     0|normal|\n",
      "|1556203751|10006|  null|  null|  null|  0.0| null| null| null|0.0|apache2|     0|normal|\n",
      "|1556203756|10000|  null|  null|  null|  0.0| null| null| null|0.0|apache2|     0|normal|\n",
      "|1556204676|10137|  null|   0.0|   0.0|  0.0| null| null| null|0.0| <find>|     0|normal|\n",
      "|1556204681|10138|  null|   0.0|   0.0|  0.0| null| null| null|0.0| <find>|     0|normal|\n",
      "|1556204686|10139|  null|   0.0|   0.0|  0.0| null| null| null|0.0| <find>|     0|normal|\n",
      "+----------+-----+------+------+------+-----+-----+-----+-----+---+-------+------+------+\n",
      "only showing top 10 rows\n",
      "\n"
     ]
    }
   ],
   "source": [
    "# check the data of records with null values in the column\n",
    "memory_df.where(col(\"MINFLT\").isNull()).show(10)"
   ]
  },
  {
   "cell_type": "code",
   "execution_count": 24,
   "metadata": {
    "scrolled": false
   },
   "outputs": [
    {
     "name": "stdout",
     "output_type": "stream",
     "text": [
      "+------+\n",
      "|MINFLT|\n",
      "+------+\n",
      "|  132K|\n",
      "+------+\n",
      "\n",
      "+------+\n",
      "|MINFLT|\n",
      "+------+\n",
      "|    0K|\n",
      "+------+\n",
      "\n"
     ]
    }
   ],
   "source": [
    "# By referring to the above dataframe, we can check what the null values were\n",
    "memory_df_new.select(\"MINFLT\").filter((col(\"ts\")==1556203721)&(col(\"PID\")==10000)).show()\n",
    "memory_df_new.select(\"MINFLT\").filter((col(\"ts\")==1556204686)&(col(\"PID\")==10139)).show()"
   ]
  },
  {
   "cell_type": "markdown",
   "metadata": {},
   "source": [
    "The \"K\" appears to be causing the problem. I will convert not only K but also M and G to the correspoding number unit. It is possible to include spaces in the middle of numbers, so they will be deleted as well. \n",
    "Finally, the column type will be changed from string to numeric according to the metadata file."
   ]
  },
  {
   "cell_type": "code",
   "execution_count": 25,
   "metadata": {},
   "outputs": [],
   "source": [
    "from pyspark.sql.functions import regexp_replace"
   ]
  },
  {
   "cell_type": "code",
   "execution_count": 26,
   "metadata": {},
   "outputs": [],
   "source": [
    "memory_df_new_1 = memory_df_new.withColumn(\"MINFLT\", when(col('MINFLT').like(\"%K\"), (regexp_replace('MINFLT', 'K', '').cast('double')*1000))\\\n",
    "                                .when(col('MINFLT').like(\"%M\"), (regexp_replace('MINFLT', 'M', '').cast('double')*1000000))\\\n",
    "                                .when(col('MINFLT').like(\"%G\"), (regexp_replace('MINFLT', 'G', '').cast('double')*1000000000))\\\n",
    "                                .otherwise((regexp_replace('MINFLT', ' ', '').cast('double'))))"
   ]
  },
  {
   "cell_type": "code",
   "execution_count": 27,
   "metadata": {
    "scrolled": true
   },
   "outputs": [
    {
     "name": "stdout",
     "output_type": "stream",
     "text": [
      "+--------+\n",
      "|  MINFLT|\n",
      "+--------+\n",
      "|132000.0|\n",
      "+--------+\n",
      "\n",
      "+------+\n",
      "|MINFLT|\n",
      "+------+\n",
      "|   0.0|\n",
      "+------+\n",
      "\n"
     ]
    }
   ],
   "source": [
    "# Check the same data after transformation\n",
    "memory_df_new_1.select(\"MINFLT\").filter((col(\"ts\")==1556203721)&(col(\"PID\")==10000)).show()\n",
    "memory_df_new_1.select(\"MINFLT\").filter((col(\"ts\")==1556204686)&(col(\"PID\")==10139)).show()"
   ]
  },
  {
   "cell_type": "markdown",
   "metadata": {},
   "source": [
    "##### <li>'MAJFLT'"
   ]
  },
  {
   "cell_type": "code",
   "execution_count": 28,
   "metadata": {},
   "outputs": [
    {
     "name": "stdout",
     "output_type": "stream",
     "text": [
      "+----------+-----+------+------+------+-----+-----+-----+-----+---+-------+------+------+\n",
      "|        ts|  PID|MINFLT|MAJFLT|VSTEXT|VSIZE|RSIZE|VGROW|RGROW|MEM|    CMD|attack|  type|\n",
      "+----------+-----+------+------+------+-----+-----+-----+-----+---+-------+------+------+\n",
      "|1556203721|10000|  null|  null|  null|  0.0| null| null| null|0.0|apache2|     0|normal|\n",
      "|1556203726|10001|  null|  null|  null|  0.0| null| null| null|0.0|apache2|     0|normal|\n",
      "|1556203731|10002|  null|  null|  null|  0.0| null| null| null|0.0|apache2|     0|normal|\n",
      "|1556203741|10004|  null|  null|  null|  0.0| null| null| null|0.0|apache2|     0|normal|\n",
      "|1556203746|10005|  null|  null|  null|  0.0| null| null| null|0.0|apache2|     0|normal|\n",
      "|1556203751|10006|  null|  null|  null|  0.0| null| null| null|0.0|apache2|     0|normal|\n",
      "|1556203756|10000|  null|  null|  null|  0.0| null| null| null|0.0|apache2|     0|normal|\n",
      "|1556205276|10002|  null|  null|  null|  0.0| null| null| null|0.0|apache2|     0|normal|\n",
      "|1556205396|10000|  null|  null|  null|  0.0| null| null| null|0.0|apache2|     1|  ddos|\n",
      "|1556205416|10004|  null|  null|  null|  0.0| null| null| null|0.0|apache2|     1|  ddos|\n",
      "+----------+-----+------+------+------+-----+-----+-----+-----+---+-------+------+------+\n",
      "only showing top 10 rows\n",
      "\n"
     ]
    }
   ],
   "source": [
    "# check the data of records with null values in the column\n",
    "memory_df.where(col(\"MAJFLT\").isNull()).show(10)"
   ]
  },
  {
   "cell_type": "code",
   "execution_count": 29,
   "metadata": {},
   "outputs": [
    {
     "name": "stdout",
     "output_type": "stream",
     "text": [
      "+------+\n",
      "|MAJFLT|\n",
      "+------+\n",
      "|224.2M|\n",
      "+------+\n",
      "\n",
      "+------+\n",
      "|MAJFLT|\n",
      "+------+\n",
      "|224.2M|\n",
      "+------+\n",
      "\n"
     ]
    }
   ],
   "source": [
    "# By referring to the above dataframe, we can check what the null values were\n",
    "memory_df_new_1.select(\"MAJFLT\").filter((col(\"ts\")==1556203721)&(col(\"PID\")==10000)).show()\n",
    "memory_df_new_1.select(\"MAJFLT\").filter((col(\"ts\")==1556203751)&(col(\"PID\")==10006)).show()"
   ]
  },
  {
   "cell_type": "markdown",
   "metadata": {},
   "source": [
    "It seems that null values have occurred for the same reason as the column above. So, in this column, we will do the same transformation we did earlier."
   ]
  },
  {
   "cell_type": "code",
   "execution_count": 30,
   "metadata": {},
   "outputs": [],
   "source": [
    "memory_df_new_2 = memory_df_new_1.withColumn(\"MAJFLT\", when(col('MAJFLT').like(\"%K\"), (regexp_replace('MAJFLT', 'K', '').cast('double')*1000))\\\n",
    "                                .when(col('MAJFLT').like(\"%M\"), (regexp_replace('MAJFLT', 'M', '').cast('double')*1000000))\\\n",
    "                                .when(col('MAJFLT').like(\"%G\"), (regexp_replace('MAJFLT', 'G', '').cast('double')*1000000000))\\\n",
    "                                .otherwise((regexp_replace('MAJFLT', ' ', '').cast('double'))))"
   ]
  },
  {
   "cell_type": "code",
   "execution_count": 31,
   "metadata": {},
   "outputs": [
    {
     "name": "stdout",
     "output_type": "stream",
     "text": [
      "+------+\n",
      "|MAJFLT|\n",
      "+------+\n",
      "| 146.1|\n",
      "+------+\n",
      "\n",
      "+-------+\n",
      "| MAJFLT|\n",
      "+-------+\n",
      "|2.242E8|\n",
      "+-------+\n",
      "\n"
     ]
    }
   ],
   "source": [
    "# Check the same data after transformation\n",
    "memory_df_new_2.select(\"MAJFLT\").filter((col(\"ts\")==1554990670)&(col(\"PID\")==16752)).show()\n",
    "memory_df_new_2.select(\"MAJFLT\").filter((col(\"ts\")==1556203751)&(col(\"PID\")==10006)).show()"
   ]
  },
  {
   "cell_type": "markdown",
   "metadata": {},
   "source": [
    "##### <li> 'VSTEXT'"
   ]
  },
  {
   "cell_type": "code",
   "execution_count": 32,
   "metadata": {},
   "outputs": [
    {
     "name": "stdout",
     "output_type": "stream",
     "text": [
      "+----------+-----+------+------+------+-----+-----+-----+-----+---+-------+------+------+\n",
      "|        ts|  PID|MINFLT|MAJFLT|VSTEXT|VSIZE|RSIZE|VGROW|RGROW|MEM|    CMD|attack|  type|\n",
      "+----------+-----+------+------+------+-----+-----+-----+-----+---+-------+------+------+\n",
      "|1556203721|10000|  null|  null|  null|  0.0| null| null| null|0.0|apache2|     0|normal|\n",
      "|1556203726|10001|  null|  null|  null|  0.0| null| null| null|0.0|apache2|     0|normal|\n",
      "|1556203731|10002|  null|  null|  null|  0.0| null| null| null|0.0|apache2|     0|normal|\n",
      "|1556203741|10004|  null|  null|  null|  0.0| null| null| null|0.0|apache2|     0|normal|\n",
      "|1556203746|10005|  null|  null|  null|  0.0| null| null| null|0.0|apache2|     0|normal|\n",
      "|1556203751|10006|  null|  null|  null|  0.0| null| null| null|0.0|apache2|     0|normal|\n",
      "|1556203756|10000|  null|  null|  null|  0.0| null| null| null|0.0|apache2|     0|normal|\n",
      "|1556205276|10002|  null|  null|  null|  0.0| null| null| null|0.0|apache2|     0|normal|\n",
      "|1556205396|10000|  null|  null|  null|  0.0| null| null| null|0.0|apache2|     1|  ddos|\n",
      "|1556205416|10004|  null|  null|  null|  0.0| null| null| null|0.0|apache2|     1|  ddos|\n",
      "+----------+-----+------+------+------+-----+-----+-----+-----+---+-------+------+------+\n",
      "only showing top 10 rows\n",
      "\n"
     ]
    }
   ],
   "source": [
    "# check the data of records with null values in the column\n",
    "memory_df.where(col(\"VSTEXT\").isNull()).show(10)"
   ]
  },
  {
   "cell_type": "code",
   "execution_count": 33,
   "metadata": {},
   "outputs": [
    {
     "name": "stdout",
     "output_type": "stream",
     "text": [
      "+------+\n",
      "|VSTEXT|\n",
      "+------+\n",
      "| 9392K|\n",
      "+------+\n",
      "\n",
      "+------+\n",
      "|VSTEXT|\n",
      "+------+\n",
      "| 9392K|\n",
      "+------+\n",
      "\n"
     ]
    }
   ],
   "source": [
    "# By referring to the above dataframe, we can check what the null values were\n",
    "memory_df_new_2.select(\"VSTEXT\").filter((col(\"ts\")==1556203721)&(col(\"PID\")==10000)).show()\n",
    "memory_df_new_2.select(\"VSTEXT\").filter((col(\"ts\")==1556203726)&(col(\"PID\")==10001)).show()"
   ]
  },
  {
   "cell_type": "markdown",
   "metadata": {},
   "source": [
    "It seems that null values have occurred for the same reason as the column above. So, in this column, we will do the same transformation we did earlier."
   ]
  },
  {
   "cell_type": "code",
   "execution_count": 34,
   "metadata": {},
   "outputs": [],
   "source": [
    "memory_df_new_3 = memory_df_new_2.withColumn(\"VSTEXT\", when(col('VSTEXT').like(\"%K\"), (regexp_replace('VSTEXT', 'K', '').cast('double')*1000))\\\n",
    "                                .when(col('VSTEXT').like(\"%M\"), (regexp_replace('VSTEXT', 'M', '').cast('double')*1000000))\\\n",
    "                                .when(col('VSTEXT').like(\"%G\"), (regexp_replace('VSTEXT', 'G', '').cast('double')*1000000000))\\\n",
    "                                .otherwise((regexp_replace('VSTEXT', ' ', '').cast('double'))))"
   ]
  },
  {
   "cell_type": "code",
   "execution_count": 35,
   "metadata": {},
   "outputs": [
    {
     "name": "stdout",
     "output_type": "stream",
     "text": [
      "+---------+\n",
      "|   VSTEXT|\n",
      "+---------+\n",
      "|9392000.0|\n",
      "+---------+\n",
      "\n",
      "+---------+\n",
      "|   VSTEXT|\n",
      "+---------+\n",
      "|9392000.0|\n",
      "+---------+\n",
      "\n"
     ]
    }
   ],
   "source": [
    "# Check the same data after transformation\n",
    "memory_df_new_3.select(\"VSTEXT\").filter((col(\"ts\")==1556203721)&(col(\"PID\")==10000)).show()\n",
    "memory_df_new_3.select(\"VSTEXT\").filter((col(\"ts\")==1556203726)&(col(\"PID\")==10001)).show()"
   ]
  },
  {
   "cell_type": "markdown",
   "metadata": {},
   "source": [
    "##### <li> 'RSIZE'"
   ]
  },
  {
   "cell_type": "code",
   "execution_count": 36,
   "metadata": {},
   "outputs": [
    {
     "name": "stdout",
     "output_type": "stream",
     "text": [
      "+----------+-----+------+------+------+-----+-----+-----+-----+---+-------+------+------+\n",
      "|        ts|  PID|MINFLT|MAJFLT|VSTEXT|VSIZE|RSIZE|VGROW|RGROW|MEM|    CMD|attack|  type|\n",
      "+----------+-----+------+------+------+-----+-----+-----+-----+---+-------+------+------+\n",
      "|1556203721|10000|  null|  null|  null|  0.0| null| null| null|0.0|apache2|     0|normal|\n",
      "|1556203726|10001|  null|  null|  null|  0.0| null| null| null|0.0|apache2|     0|normal|\n",
      "|1556203731|10002|  null|  null|  null|  0.0| null| null| null|0.0|apache2|     0|normal|\n",
      "|1556203741|10004|  null|  null|  null|  0.0| null| null| null|0.0|apache2|     0|normal|\n",
      "|1556203746|10005|  null|  null|  null|  0.0| null| null| null|0.0|apache2|     0|normal|\n",
      "|1556203751|10006|  null|  null|  null|  0.0| null| null| null|0.0|apache2|     0|normal|\n",
      "|1556203756|10000|  null|  null|  null|  0.0| null| null| null|0.0|apache2|     0|normal|\n",
      "|1556204676|10137|  null|   0.0|   0.0|  0.0| null| null| null|0.0| <find>|     0|normal|\n",
      "|1556204681|10138|  null|   0.0|   0.0|  0.0| null| null| null|0.0| <find>|     0|normal|\n",
      "|1556204686|10139|  null|   0.0|   0.0|  0.0| null| null| null|0.0| <find>|     0|normal|\n",
      "+----------+-----+------+------+------+-----+-----+-----+-----+---+-------+------+------+\n",
      "only showing top 10 rows\n",
      "\n"
     ]
    }
   ],
   "source": [
    "# check the data of records with null values in the column\n",
    "memory_df.where(col(\"RSIZE\").isNull()).show(10)"
   ]
  },
  {
   "cell_type": "code",
   "execution_count": 37,
   "metadata": {},
   "outputs": [
    {
     "name": "stdout",
     "output_type": "stream",
     "text": [
      "+------+\n",
      "| RSIZE|\n",
      "+------+\n",
      "|224.2M|\n",
      "+------+\n",
      "\n",
      "+-----+\n",
      "|RSIZE|\n",
      "+-----+\n",
      "|   0K|\n",
      "+-----+\n",
      "\n"
     ]
    }
   ],
   "source": [
    "# By referring to the above dataframe, we can check what the null values were\n",
    "memory_df_new_3.select(\"RSIZE\").filter((col(\"ts\")==1556203721)&(col(\"PID\")==10000)).show()\n",
    "memory_df_new_3.select(\"RSIZE\").filter((col(\"ts\")==1556204686)&(col(\"PID\")==10139)).show()"
   ]
  },
  {
   "cell_type": "markdown",
   "metadata": {},
   "source": [
    "It seems that null values have occurred for the same reason as the column above. So, in this column, we will do the same transformation we did earlier."
   ]
  },
  {
   "cell_type": "code",
   "execution_count": 38,
   "metadata": {},
   "outputs": [],
   "source": [
    "memory_df_new_4 = memory_df_new_3.withColumn(\"RSIZE\", when(col('RSIZE').like(\"%K\"), (regexp_replace('RSIZE', 'K', '').cast('double')*1000))\\\n",
    "                                .when(col('RSIZE').like(\"%M\"), (regexp_replace('RSIZE', 'M', '').cast('double')*1000000))\\\n",
    "                                .when(col('RSIZE').like(\"%G\"), (regexp_replace('RSIZE', 'G', '').cast('double')*1000000000))\\\n",
    "                                .otherwise((regexp_replace('RSIZE', ' ', '').cast('double'))))"
   ]
  },
  {
   "cell_type": "code",
   "execution_count": 39,
   "metadata": {},
   "outputs": [
    {
     "name": "stdout",
     "output_type": "stream",
     "text": [
      "+-------+\n",
      "|  RSIZE|\n",
      "+-------+\n",
      "|2.242E8|\n",
      "+-------+\n",
      "\n",
      "+-----+\n",
      "|RSIZE|\n",
      "+-----+\n",
      "|  0.0|\n",
      "+-----+\n",
      "\n"
     ]
    }
   ],
   "source": [
    "# Check the same data after transformation\n",
    "memory_df_new_4.select(\"RSIZE\").filter((col(\"ts\")==1556203721)&(col(\"PID\")==10000)).show()\n",
    "memory_df_new_4.select(\"RSIZE\").filter((col(\"ts\")==1556204686)&(col(\"PID\")==10139)).show()"
   ]
  },
  {
   "cell_type": "markdown",
   "metadata": {},
   "source": [
    "##### <li> 'VGROW'"
   ]
  },
  {
   "cell_type": "code",
   "execution_count": 40,
   "metadata": {},
   "outputs": [
    {
     "name": "stdout",
     "output_type": "stream",
     "text": [
      "+----------+-----+------+------+------+-----+-----+-----+-----+---+-------+------+------+\n",
      "|        ts|  PID|MINFLT|MAJFLT|VSTEXT|VSIZE|RSIZE|VGROW|RGROW|MEM|    CMD|attack|  type|\n",
      "+----------+-----+------+------+------+-----+-----+-----+-----+---+-------+------+------+\n",
      "|1556203721|10000|  null|  null|  null|  0.0| null| null| null|0.0|apache2|     0|normal|\n",
      "|1556203726|10001|  null|  null|  null|  0.0| null| null| null|0.0|apache2|     0|normal|\n",
      "|1556203731|10002|  null|  null|  null|  0.0| null| null| null|0.0|apache2|     0|normal|\n",
      "|1556203741|10004|  null|  null|  null|  0.0| null| null| null|0.0|apache2|     0|normal|\n",
      "|1556203746|10005|  null|  null|  null|  0.0| null| null| null|0.0|apache2|     0|normal|\n",
      "|1556203751|10006|  null|  null|  null|  0.0| null| null| null|0.0|apache2|     0|normal|\n",
      "|1556203756|10000|  null|  null|  null|  0.0| null| null| null|0.0|apache2|     0|normal|\n",
      "|1556204676|10137|  null|   0.0|   0.0|  0.0| null| null| null|0.0| <find>|     0|normal|\n",
      "|1556204681|10138|  null|   0.0|   0.0|  0.0| null| null| null|0.0| <find>|     0|normal|\n",
      "|1556204686|10139|  null|   0.0|   0.0|  0.0| null| null| null|0.0| <find>|     0|normal|\n",
      "+----------+-----+------+------+------+-----+-----+-----+-----+---+-------+------+------+\n",
      "only showing top 10 rows\n",
      "\n"
     ]
    }
   ],
   "source": [
    "# check the data of records with null values in the column\n",
    "memory_df.where(col(\"VGROW\").isNull()).show(10)"
   ]
  },
  {
   "cell_type": "code",
   "execution_count": 41,
   "metadata": {
    "scrolled": true
   },
   "outputs": [
    {
     "name": "stdout",
     "output_type": "stream",
     "text": [
      "+-----+\n",
      "|VGROW|\n",
      "+-----+\n",
      "|9392K|\n",
      "+-----+\n",
      "\n",
      "+-----+\n",
      "|VGROW|\n",
      "+-----+\n",
      "|   0K|\n",
      "+-----+\n",
      "\n"
     ]
    }
   ],
   "source": [
    "# By referring to the above dataframe, we can check what the null values were\n",
    "memory_df_new_4.select(\"VGROW\").filter((col(\"ts\")==1556203721)&(col(\"PID\")==10000)).show()\n",
    "memory_df_new_4.select(\"VGROW\").filter((col(\"ts\")==1556204686)&(col(\"PID\")==10139)).show()"
   ]
  },
  {
   "cell_type": "markdown",
   "metadata": {},
   "source": [
    "It seems that null values have occurred for the same reason as the column above. So, in this column, we will do the same transformation we did earlier."
   ]
  },
  {
   "cell_type": "code",
   "execution_count": 42,
   "metadata": {},
   "outputs": [],
   "source": [
    "memory_df_new_5 = memory_df_new_4.withColumn(\"VGROW\", when(col('VGROW').like(\"%K\"), (regexp_replace('VGROW', 'K', '').cast('double')*1000))\\\n",
    "                                .when(col('VGROW').like(\"%M\"), (regexp_replace('VGROW', 'M', '').cast('double')*1000000))\\\n",
    "                                .when(col('VGROW').like(\"%G\"), (regexp_replace('VGROW', 'G', '').cast('double')*1000000000))\\\n",
    "                                .otherwise((regexp_replace('VGROW', ' ', '').cast('double'))))"
   ]
  },
  {
   "cell_type": "code",
   "execution_count": 43,
   "metadata": {},
   "outputs": [
    {
     "name": "stdout",
     "output_type": "stream",
     "text": [
      "+---------+\n",
      "|    VGROW|\n",
      "+---------+\n",
      "|9392000.0|\n",
      "+---------+\n",
      "\n",
      "+-----+\n",
      "|VGROW|\n",
      "+-----+\n",
      "|  0.0|\n",
      "+-----+\n",
      "\n"
     ]
    }
   ],
   "source": [
    "# Check the same data after transformation\n",
    "memory_df_new_5.select(\"VGROW\").filter((col(\"ts\")==1556203721)&(col(\"PID\")==10000)).show()\n",
    "memory_df_new_5.select(\"VGROW\").filter((col(\"ts\")==1556204686)&(col(\"PID\")==10139)).show()"
   ]
  },
  {
   "cell_type": "markdown",
   "metadata": {},
   "source": [
    "##### <li> 'RGROW' "
   ]
  },
  {
   "cell_type": "code",
   "execution_count": 44,
   "metadata": {},
   "outputs": [
    {
     "name": "stdout",
     "output_type": "stream",
     "text": [
      "+----------+-----+------+------+------+-----+-----+-----+-----+---+-------+------+------+\n",
      "|        ts|  PID|MINFLT|MAJFLT|VSTEXT|VSIZE|RSIZE|VGROW|RGROW|MEM|    CMD|attack|  type|\n",
      "+----------+-----+------+------+------+-----+-----+-----+-----+---+-------+------+------+\n",
      "|1556203721|10000|  null|  null|  null|  0.0| null| null| null|0.0|apache2|     0|normal|\n",
      "|1556203726|10001|  null|  null|  null|  0.0| null| null| null|0.0|apache2|     0|normal|\n",
      "|1556203731|10002|  null|  null|  null|  0.0| null| null| null|0.0|apache2|     0|normal|\n",
      "|1556203741|10004|  null|  null|  null|  0.0| null| null| null|0.0|apache2|     0|normal|\n",
      "|1556203746|10005|  null|  null|  null|  0.0| null| null| null|0.0|apache2|     0|normal|\n",
      "|1556203751|10006|  null|  null|  null|  0.0| null| null| null|0.0|apache2|     0|normal|\n",
      "|1556203756|10000|  null|  null|  null|  0.0| null| null| null|0.0|apache2|     0|normal|\n",
      "|1556204676|10137|  null|   0.0|   0.0|  0.0| null| null| null|0.0| <find>|     0|normal|\n",
      "|1556204681|10138|  null|   0.0|   0.0|  0.0| null| null| null|0.0| <find>|     0|normal|\n",
      "|1556204686|10139|  null|   0.0|   0.0|  0.0| null| null| null|0.0| <find>|     0|normal|\n",
      "+----------+-----+------+------+------+-----+-----+-----+-----+---+-------+------+------+\n",
      "only showing top 10 rows\n",
      "\n"
     ]
    }
   ],
   "source": [
    "# check the data of records with null values in the column\n",
    "memory_df.where(col(\"RGROW\").isNull()).show(10)"
   ]
  },
  {
   "cell_type": "code",
   "execution_count": 45,
   "metadata": {
    "scrolled": true
   },
   "outputs": [
    {
     "name": "stdout",
     "output_type": "stream",
     "text": [
      "+-----+\n",
      "|RGROW|\n",
      "+-----+\n",
      "|   0K|\n",
      "+-----+\n",
      "\n",
      "+-----+\n",
      "|RGROW|\n",
      "+-----+\n",
      "|   0K|\n",
      "+-----+\n",
      "\n"
     ]
    }
   ],
   "source": [
    "# By referring to the above dataframe, we can check what the null values were\n",
    "memory_df_new_5.select(\"RGROW\").filter((col(\"ts\")==1556203721)&(col(\"PID\")==10000)).show()\n",
    "memory_df_new_5.select(\"RGROW\").filter((col(\"ts\")==1556203726)&(col(\"PID\")==10001)).show()"
   ]
  },
  {
   "cell_type": "markdown",
   "metadata": {},
   "source": [
    "It seems that null values have occurred for the same reason as the column above. So, in this column, we will do the same transformation we did earlier."
   ]
  },
  {
   "cell_type": "code",
   "execution_count": 46,
   "metadata": {},
   "outputs": [],
   "source": [
    "memory_df_new_6 = memory_df_new_5.withColumn(\"RGROW\", when(col('RGROW').like(\"%K\"), (regexp_replace('RGROW', 'K', '').cast('double')*1000))\\\n",
    "                                .when(col('RGROW').like(\"%M\"), (regexp_replace('RGROW', 'M', '').cast('double')*1000000))\\\n",
    "                                .when(col('RGROW').like(\"%G\"), (regexp_replace('RGROW', 'G', '').cast('double')*1000000000))\\\n",
    "                                .otherwise((regexp_replace('RGROW', ' ', '').cast('double'))))"
   ]
  },
  {
   "cell_type": "code",
   "execution_count": 47,
   "metadata": {},
   "outputs": [
    {
     "name": "stdout",
     "output_type": "stream",
     "text": [
      "+-----+\n",
      "|RGROW|\n",
      "+-----+\n",
      "|  0.0|\n",
      "+-----+\n",
      "\n",
      "+-----+\n",
      "|RGROW|\n",
      "+-----+\n",
      "|  0.0|\n",
      "+-----+\n",
      "\n"
     ]
    }
   ],
   "source": [
    "# Check the same data after transformation\n",
    "memory_df_new_6.select(\"RGROW\").filter((col(\"ts\")==1556203721)&(col(\"PID\")==10000)).show()\n",
    "memory_df_new_6.select(\"RGROW\").filter((col(\"ts\")==1556203726)&(col(\"PID\")==10001)).show()"
   ]
  },
  {
   "cell_type": "markdown",
   "metadata": {},
   "source": [
    "Finally, we will check the schema of the data frame and the number of null values after the transformations of the columns."
   ]
  },
  {
   "cell_type": "code",
   "execution_count": 48,
   "metadata": {},
   "outputs": [],
   "source": [
    "memory_df_final = memory_df_new_6"
   ]
  },
  {
   "cell_type": "code",
   "execution_count": 49,
   "metadata": {},
   "outputs": [
    {
     "data": {
      "text/plain": [
       "DataFrame[ts: int, PID: int, MINFLT: double, MAJFLT: double, VSTEXT: double, VSIZE: double, RSIZE: double, VGROW: double, RGROW: double, MEM: double, CMD: string, attack: int, type: string]"
      ]
     },
     "execution_count": 49,
     "metadata": {},
     "output_type": "execute_result"
    }
   ],
   "source": [
    "# Cache the data\n",
    "memory_df_final.cache()"
   ]
  },
  {
   "cell_type": "code",
   "execution_count": 50,
   "metadata": {},
   "outputs": [
    {
     "name": "stdout",
     "output_type": "stream",
     "text": [
      "+---+---+------+------+------+-----+-----+-----+-----+---+---+------+----+\n",
      "| ts|PID|MINFLT|MAJFLT|VSTEXT|VSIZE|RSIZE|VGROW|RGROW|MEM|CMD|attack|type|\n",
      "+---+---+------+------+------+-----+-----+-----+-----+---+---+------+----+\n",
      "|  0|  0|     0|     0|     0|    0|    0|    0|    0|  0|  0|     0|   0|\n",
      "+---+---+------+------+------+-----+-----+-----+-----+---+---+------+----+\n",
      "\n"
     ]
    }
   ],
   "source": [
    "# check the null data in memory_df_final\n",
    "memory_df_final.select([count(when(isnan(c) | col(c).isNull(), c)).alias(c) for c in memory_df_final.columns]).show()"
   ]
  },
  {
   "cell_type": "markdown",
   "metadata": {},
   "source": [
    "It seems that the data types of all columns match those of the metadata file. Also, there is no null value now."
   ]
  },
  {
   "cell_type": "markdown",
   "metadata": {},
   "source": [
    "<a class=\"anchor\" name=\"one3\"></a>\n",
    "## 1.3 Exploring the data "
   ]
  },
  {
   "cell_type": "markdown",
   "metadata": {},
   "source": [
    "####  1. Show the count of attack and non-attack in each activity based on the column “attack”, then show the count of each kind of attack in process activity based on the column “type”."
   ]
  },
  {
   "cell_type": "markdown",
   "metadata": {},
   "source": [
    "#### ○ Do you see any class imbalance? Examine and describe what you observe"
   ]
  },
  {
   "cell_type": "code",
   "execution_count": 51,
   "metadata": {},
   "outputs": [],
   "source": [
    "from pyspark.sql import functions as F"
   ]
  },
  {
   "cell_type": "markdown",
   "metadata": {},
   "source": [
    "#### <li>  Process activity"
   ]
  },
  {
   "cell_type": "code",
   "execution_count": 52,
   "metadata": {},
   "outputs": [
    {
     "name": "stdout",
     "output_type": "stream",
     "text": [
      "+------+-------+\n",
      "|attack|  Count|\n",
      "+------+-------+\n",
      "|     1| 291364|\n",
      "|     0|1636604|\n",
      "+------+-------+\n",
      "\n"
     ]
    }
   ],
   "source": [
    "# count of attack and non-attack in process activity\n",
    "process_df_count = process_df.groupby(\"attack\").agg(F.count(\"attack\").alias('Count'))\n",
    "process_df_count.show()"
   ]
  },
  {
   "cell_type": "markdown",
   "metadata": {},
   "source": [
    "- attack = 1: attack event <br>\n",
    "- attack = 0: non-attack event <br>\n",
    "\n",
    "It seems that the number of non-attack events is about 5 times more than the number of attack events, which means the distribution of the data is imbalanced."
   ]
  },
  {
   "cell_type": "code",
   "execution_count": 53,
   "metadata": {},
   "outputs": [
    {
     "name": "stdout",
     "output_type": "stream",
     "text": [
      "+---------+-------+\n",
      "|     type|  Count|\n",
      "+---------+-------+\n",
      "|     mitm|    112|\n",
      "|      xss|  17759|\n",
      "| scanning|  38449|\n",
      "|injection|  41311|\n",
      "| password|  51409|\n",
      "|      dos|  70721|\n",
      "|     ddos|  71603|\n",
      "|   normal|1636604|\n",
      "+---------+-------+\n",
      "\n"
     ]
    }
   ],
   "source": [
    "# count of each kind of attack in process activity\n",
    "process_df_count_type = process_df.groupby(\"type\").agg(F.count(\"type\").alias('Count'))\n",
    "process_df_count_type.orderBy(process_df_count_type.Count).show()"
   ]
  },
  {
   "cell_type": "markdown",
   "metadata": {},
   "source": [
    "Compared with the data frame above, it can be inferred that 'normal' means non-attack events and the other values indicate attack events. In addition, among the attack types, in the case of mitms with the smallest number of counts and ddos with the largest number of counts, it can be checked that the difference is about 600 times or more. Also, the difference in the number of counts between the other classes is not small."
   ]
  },
  {
   "cell_type": "markdown",
   "metadata": {},
   "source": [
    "#### <li>  Memory activity"
   ]
  },
  {
   "cell_type": "code",
   "execution_count": 54,
   "metadata": {},
   "outputs": [
    {
     "name": "stdout",
     "output_type": "stream",
     "text": [
      "+------+-------+\n",
      "|attack|  Count|\n",
      "+------+-------+\n",
      "|     1| 205623|\n",
      "|     0|1794377|\n",
      "+------+-------+\n",
      "\n"
     ]
    }
   ],
   "source": [
    "# count of attack and non-attack in memory activity\n",
    "memory_df_final_count = memory_df_final.groupby(\"attack\").agg(F.count(\"attack\").alias('Count'))\n",
    "memory_df_final_count.show()"
   ]
  },
  {
   "cell_type": "markdown",
   "metadata": {},
   "source": [
    "It seems that the number of non-attack events is about 8 times more than the number of attack events, which means the distribution of the data is more imbalanced than that of the process activity."
   ]
  },
  {
   "cell_type": "markdown",
   "metadata": {},
   "source": [
    "#### 2. For each numeric feature in each activity, show the basic statistics (including count, mean, stddev, min, max); for each non-numeric feature in each activity, display the top-10 values and the corresponding counts."
   ]
  },
  {
   "cell_type": "markdown",
   "metadata": {},
   "source": [
    "#### ○ No need to show the labels at “attack” or “type” column"
   ]
  },
  {
   "cell_type": "markdown",
   "metadata": {},
   "source": [
    "#### <li>  Process activity"
   ]
  },
  {
   "cell_type": "code",
   "execution_count": 55,
   "metadata": {},
   "outputs": [
    {
     "name": "stdout",
     "output_type": "stream",
     "text": [
      "root\n",
      " |-- ts: integer (nullable = true)\n",
      " |-- PID: integer (nullable = true)\n",
      " |-- TRUN: integer (nullable = true)\n",
      " |-- TSLPI: integer (nullable = true)\n",
      " |-- TSLPU: integer (nullable = true)\n",
      " |-- POLI: string (nullable = true)\n",
      " |-- NICE: integer (nullable = true)\n",
      " |-- PRI: integer (nullable = true)\n",
      " |-- RTPR: integer (nullable = true)\n",
      " |-- CPUNR: integer (nullable = true)\n",
      " |-- Status: string (nullable = true)\n",
      " |-- EXC: integer (nullable = true)\n",
      " |-- State: string (nullable = true)\n",
      " |-- CPU: double (nullable = true)\n",
      " |-- CMD: string (nullable = true)\n",
      " |-- attack: integer (nullable = true)\n",
      " |-- type: string (nullable = true)\n",
      "\n"
     ]
    }
   ],
   "source": [
    "# check the numeric features\n",
    "process_df.printSchema()"
   ]
  },
  {
   "cell_type": "code",
   "execution_count": 56,
   "metadata": {},
   "outputs": [
    {
     "name": "stdout",
     "output_type": "stream",
     "text": [
      "+-------+--------------------+-----------------+-------------------+-----------------+--------------------+-----------------+------------------+-------+------------------+--------------------+--------------------+\n",
      "|summary|                  ts|              PID|               TRUN|            TSLPI|               TSLPU|             NICE|               PRI|   RTPR|             CPUNR|                 EXC|                 CPU|\n",
      "+-------+--------------------+-----------------+-------------------+-----------------+--------------------+-----------------+------------------+-------+------------------+--------------------+--------------------+\n",
      "|  count|             1927968|          1927968|            1927968|          1927968|             1927968|          1927968|           1927968|1927968|           1927968|             1927968|             1927968|\n",
      "|   mean|1.5563198311840394E9|5068.709770597852| 0.0632287465352122|3.508334163222626|3.610018423542299...|4.634469555511295|111.26826741937626|    0.0|1.9210142491991569|0.030275398761805176|0.022385272992077324|\n",
      "| stddev|    771350.024805323|4987.784329320426|0.24782587090416056|6.988459728531861|0.044218744192145956|8.403189864752092|  22.6244450621028|    0.0|1.5274047225902938|  1.4619498567691995| 0.13628943687184328|\n",
      "|    min|          1554216855|             1007|                  0|                0|                   0|                0|                 0|      0|                 0|                   0|                 0.0|\n",
      "|    max|          1557593017|            53080|                 12|               70|                  21|               20|               139|      0|                 5|                 127|                4.02|\n",
      "+-------+--------------------+-----------------+-------------------+-----------------+--------------------+-----------------+------------------+-------+------------------+--------------------+--------------------+\n",
      "\n"
     ]
    }
   ],
   "source": [
    "# numeric feature: count, mean, stddev, min, max\n",
    "\n",
    "# extract numerical columns (except 'attack' column)\n",
    "numeric_process =  ['ts', 'PID', 'TRUN', 'TSLPI', 'TSLPU', 'NICE', 'PRI', 'RTPR', 'CPUNR', 'EXC',  'CPU']\n",
    "\n",
    "#Summary Statistics\n",
    "process_df.describe(numeric_process).show(5)\n",
    "\n",
    "# for readability:  process_df.describe(numeric_process).toPandas().head(5)"
   ]
  },
  {
   "cell_type": "markdown",
   "metadata": {},
   "source": [
    "All columns have the same number of records. <br> <br>\n",
    "\n",
    "- ts\n",
    ": It has the largest scale and stddev. <br> <br>\n",
    "\n",
    "- PID\n",
    ": The column has the largest gap between min and max. By comparing |mean-min| to |mean-max|, it is possible that the data is concentrated on the small number side or there are outliers on the large number side.\n",
    "<br> <br>\n",
    "- TRUN, TSLPI, EXC, CPU\n",
    ": For the same reason as the PID column, it is possible that the data is concentrated on the small number side or there are outliers on the large number side.\n",
    "<br> <br>\n",
    "- TSLPU\n",
    ": It seems that the majority of records are likely to be distributed around 0, and large outliers exist.\n",
    "<br> <br>\n",
    "- NICE\n",
    ": According to the metadata file, the scale of this column is from -20 (high priority) to +19 (low priority). However, from the table above, the max value of the NICE seems to be 20. We will examine the number of each value in the NICE column to find why this difference occured.\n",
    "<br> <br>\n",
    "- PRI\n",
    ": It is possible that the data is concentrated on the large number side or there are outliers on the small number side.\n",
    "<br> <br>\n",
    "- RTPR\n",
    ": mean = stddev = min = max = 0.It means this column only contains 0 values. For checking whether this column is valid or not, we will look at the POLI column, which is a non-numerical column related to this column according to the metadata file. \n",
    "<br><br>\n"
   ]
  },
  {
   "cell_type": "code",
   "execution_count": 57,
   "metadata": {},
   "outputs": [
    {
     "name": "stdout",
     "output_type": "stream",
     "text": [
      "+----+-------+\n",
      "|NICE|  Count|\n",
      "+----+-------+\n",
      "|  19|    116|\n",
      "|  10|   1601|\n",
      "|  11|   6765|\n",
      "|   1|  16840|\n",
      "|  20| 441282|\n",
      "|   0|1461364|\n",
      "+----+-------+\n",
      "\n"
     ]
    }
   ],
   "source": [
    "# number of each value in the NICE column\n",
    "process_df_count_NICE = process_df.groupby(\"NICE\").agg(F.count(\"NICE\").alias('Count'))\n",
    "process_df_count_NICE.orderBy(process_df_count_NICE.Count).show() "
   ]
  },
  {
   "cell_type": "markdown",
   "metadata": {},
   "source": [
    "There is no negative value. Most likely, some negative signs were wrongly removed when the data collector extracted data. Therfore, we need to restore the correct values of the NICE column. We can use the information from the metadata file in this case: There is a mapping between PRI (priority) and NICE, as long as the process is not yet finished during the last interval. For example, PRI 100 maps to NICE -20 and PRI 139 maps to NICE 19. If the process is finished, PRI would be 0 and NICE would be 0 as well. "
   ]
  },
  {
   "cell_type": "markdown",
   "metadata": {},
   "source": [
    "First, we will check the number of each value in the PRI column."
   ]
  },
  {
   "cell_type": "code",
   "execution_count": 58,
   "metadata": {},
   "outputs": [
    {
     "name": "stdout",
     "output_type": "stream",
     "text": [
      "+---+-------+\n",
      "|PRI|  Count|\n",
      "+---+-------+\n",
      "|110|     15|\n",
      "|139|    116|\n",
      "|130|   1586|\n",
      "|109|   6765|\n",
      "|121|  16840|\n",
      "|  0|  66410|\n",
      "|100| 441282|\n",
      "|120|1394954|\n",
      "+---+-------+\n",
      "\n"
     ]
    }
   ],
   "source": [
    "# number of each value in the PRI column\n",
    "process_df_count_PRI = process_df.groupby(\"PRI\").agg(F.count(\"PRI\").alias('Count'))\n",
    "process_df_count_PRI.orderBy(process_df_count_PRI.Count).show() "
   ]
  },
  {
   "cell_type": "markdown",
   "metadata": {},
   "source": [
    "The NICE values corresponding to the PRI values above will be as follows."
   ]
  },
  {
   "cell_type": "markdown",
   "metadata": {},
   "source": [
    "|PRI | NICE |\n",
    "|---|---|\n",
    "|0 |0 |\n",
    "|100 |-20 |\n",
    "|109 |-11 |\n",
    "|110 |-10 |\n",
    "|120 |0 |\n",
    "|121 |1 |\n",
    "|130 |10 |\n",
    "|139 |19 | "
   ]
  },
  {
   "cell_type": "markdown",
   "metadata": {},
   "source": [
    "Based on this data, we will change the value of the NICE column.<br>\n",
    "\n",
    "https://stackoverflow.com/questions/50321549/map-values-in-a-dataframe-from-a-dictionary-using-pyspark/52015818"
   ]
  },
  {
   "cell_type": "code",
   "execution_count": 59,
   "metadata": {},
   "outputs": [],
   "source": [
    "from itertools import chain\n",
    "from pyspark.sql.functions import create_map, lit"
   ]
  },
  {
   "cell_type": "code",
   "execution_count": 60,
   "metadata": {},
   "outputs": [
    {
     "name": "stdout",
     "output_type": "stream",
     "text": [
      "+----------+----+----+-----+-----+----+----+---+----+-----+------+---+-----+---+--------------+------+------+\n",
      "|        ts| PID|TRUN|TSLPI|TSLPU|POLI|NICE|PRI|RTPR|CPUNR|Status|EXC|State|CPU|           CMD|attack|  type|\n",
      "+----------+----+----+-----+-----+----+----+---+----+-----+------+---+-----+---+--------------+------+------+\n",
      "|1556739928|2579|   0|    1|    0|norm|   0|120|   0|    0|     -|  0|    S|0.0|upstart-dbus-b|     0|normal|\n",
      "|1556739933|3739|   0|    1|    0|norm|   0|120|   0|    0|     -|  0|    S|0.0|   kworker/0:1|     0|normal|\n",
      "|1556739938|3752|   0|    4|    0|norm|   0|120|   0|    1|     -|  0|    S|0.0|gnome-terminal|     0|normal|\n",
      "|1556739943|2596|   0|    4|    0|norm|   0|120|   0|    3|     -|  0|    S|0.0|unity-settings|     0|normal|\n",
      "|1556739948|1400|   0|    1|    0|norm|   0|120|   0|    2|     -|  0|    S|0.0|    irqbalance|     0|normal|\n",
      "+----------+----+----+-----+-----+----+----+---+----+-----+------+---+-----+---+--------------+------+------+\n",
      "only showing top 5 rows\n",
      "\n"
     ]
    }
   ],
   "source": [
    "# Create a dictionary for mapping values\n",
    "valmap = {0: 0, 100: -20, 109:-11, 110:-10, 120:0, 121:1, 130:10, 139:19}\n",
    "\n",
    "# Replace the values of the 'NICE' column\n",
    "mapping_expr = create_map([lit(x) for x in chain(*valmap.items())])\n",
    "process_df_final = process_df.withColumn('NICE', mapping_expr[process_df['PRI']])\n",
    "\n",
    "# cache the data\n",
    "process_df_final.cache()\n",
    "\n",
    "# check the records after changing the data of 'NICE' column\n",
    "process_df_final.show(5)"
   ]
  },
  {
   "cell_type": "markdown",
   "metadata": {},
   "source": [
    "Let's have a look at the NICE data."
   ]
  },
  {
   "cell_type": "code",
   "execution_count": 61,
   "metadata": {},
   "outputs": [
    {
     "name": "stdout",
     "output_type": "stream",
     "text": [
      "+----+-------+\n",
      "|NICE|  Count|\n",
      "+----+-------+\n",
      "| -10|     15|\n",
      "|  19|    116|\n",
      "|  10|   1586|\n",
      "| -11|   6765|\n",
      "|   1|  16840|\n",
      "| -20| 441282|\n",
      "|   0|1461364|\n",
      "+----+-------+\n",
      "\n"
     ]
    }
   ],
   "source": [
    "process_df_final_count_NICE = process_df_final.groupby(\"NICE\").agg(F.count(\"NICE\").alias('Count'))\n",
    "process_df_final_count_NICE.orderBy(process_df_final_count_NICE.Count).show() "
   ]
  },
  {
   "cell_type": "markdown",
   "metadata": {},
   "source": [
    "Now, the values of the NICE match the metadata and the count of the PRI values above."
   ]
  },
  {
   "cell_type": "markdown",
   "metadata": {},
   "source": [
    "Now we will look at the top 10 values for the non-numeric features of the process activity."
   ]
  },
  {
   "cell_type": "code",
   "execution_count": 62,
   "metadata": {},
   "outputs": [],
   "source": [
    "# non-numeric feature: top-10 values and the corresponding counts\n",
    "\n",
    "# extract non-numeric columns (except 'type' column)\n",
    "non_numeric_process =  ['POLI', 'Status', 'State', 'CMD']"
   ]
  },
  {
   "cell_type": "code",
   "execution_count": 63,
   "metadata": {},
   "outputs": [
    {
     "name": "stdout",
     "output_type": "stream",
     "text": [
      "+----+-------+\n",
      "|POLI|  Count|\n",
      "+----+-------+\n",
      "|norm|1861558|\n",
      "|   0|  53216|\n",
      "|   -|  13194|\n",
      "+----+-------+\n",
      "\n"
     ]
    }
   ],
   "source": [
    "#POLI\n",
    "process_df_final_count_POLI = process_df_final.groupby(\"POLI\").agg(F.count(\"POLI\").alias('Count'))\n",
    "process_df_final_count_POLI.orderBy(process_df_final_count_POLI.Count, ascending=False).show(10)"
   ]
  },
  {
   "cell_type": "markdown",
   "metadata": {},
   "source": [
    "There are 3 classes in this feature. \n",
    "The distribution of data between each category seems to be imbalanced."
   ]
  },
  {
   "cell_type": "markdown",
   "metadata": {},
   "source": [
    "In addition, we mentioned that, the RTPR, one of the numeric columns, seems to be related to the POLI column, because RTPR's range from 1 till 99 = POLI's 'rr' or 'fifo'. Since neither 'rr' and 'fifo' exist in the current POLI column, the reason why the RTPR only had 0 values  can be explained."
   ]
  },
  {
   "cell_type": "code",
   "execution_count": 64,
   "metadata": {},
   "outputs": [
    {
     "name": "stdout",
     "output_type": "stream",
     "text": [
      "+------+-------+\n",
      "|Status|  Count|\n",
      "+------+-------+\n",
      "|     -|1416322|\n",
      "|     0| 438984|\n",
      "|    NE|  48602|\n",
      "|     N|  23313|\n",
      "|    NS|    743|\n",
      "|     C|      3|\n",
      "|    NC|      1|\n",
      "+------+-------+\n",
      "\n"
     ]
    }
   ],
   "source": [
    "#Status\n",
    "process_df_final_count_Status = process_df_final.groupby(\"Status\").agg(F.count(\"Status\").alias('Count'))\n",
    "process_df_final_count_Status.orderBy(process_df_final_count_Status.Count, ascending=False).show(10)"
   ]
  },
  {
   "cell_type": "markdown",
   "metadata": {},
   "source": [
    "There are 7 classes in this feature.The distribution of data between each category seems to be highly imbalanced."
   ]
  },
  {
   "cell_type": "code",
   "execution_count": 65,
   "metadata": {},
   "outputs": [
    {
     "name": "stdout",
     "output_type": "stream",
     "text": [
      "+-----+-------+\n",
      "|State|  Count|\n",
      "+-----+-------+\n",
      "|    S|1676350|\n",
      "|    I|  98986|\n",
      "|    R|  84753|\n",
      "|    E|  66410|\n",
      "|    Z|   1118|\n",
      "|    D|    344|\n",
      "|    T|      7|\n",
      "+-----+-------+\n",
      "\n"
     ]
    }
   ],
   "source": [
    "#State\n",
    "process_df_final_count_State = process_df_final.groupby(\"State\").agg(F.count(\"State\").alias('Count'))\n",
    "process_df_final_count_State.orderBy(process_df_final_count_State.Count, ascending=False).show(10)"
   ]
  },
  {
   "cell_type": "markdown",
   "metadata": {},
   "source": [
    "There are 7 classes in this feature.The distribution of data between each category seems to be highly imbalanced."
   ]
  },
  {
   "cell_type": "code",
   "execution_count": 66,
   "metadata": {},
   "outputs": [
    {
     "name": "stdout",
     "output_type": "stream",
     "text": [
      "+--------------+------+\n",
      "|           CMD| Count|\n",
      "+--------------+------+\n",
      "|          atop|441180|\n",
      "|       apache2|313143|\n",
      "|      vmtoolsd|112029|\n",
      "|          Xorg| 66813|\n",
      "|      nautilus| 63449|\n",
      "|gnome-terminal| 47628|\n",
      "|        compiz| 44386|\n",
      "|    irqbalance| 44324|\n",
      "|      ostinato| 42979|\n",
      "|         drone| 41390|\n",
      "+--------------+------+\n",
      "only showing top 10 rows\n",
      "\n"
     ]
    }
   ],
   "source": [
    "#CMD\n",
    "process_df_final_count_CMD = process_df_final.groupby(\"CMD\").agg(F.count(\"CMD\").alias('Count'))\n",
    "process_df_final_count_CMD.orderBy(process_df_final_count_CMD.Count, ascending=False).show(10)"
   ]
  },
  {
   "cell_type": "markdown",
   "metadata": {},
   "source": [
    "It seems there are more than 10 classes in this feature."
   ]
  },
  {
   "cell_type": "markdown",
   "metadata": {},
   "source": [
    "#### <li>  Memory activity"
   ]
  },
  {
   "cell_type": "code",
   "execution_count": 67,
   "metadata": {},
   "outputs": [
    {
     "name": "stdout",
     "output_type": "stream",
     "text": [
      "root\n",
      " |-- ts: integer (nullable = true)\n",
      " |-- PID: integer (nullable = true)\n",
      " |-- MINFLT: double (nullable = true)\n",
      " |-- MAJFLT: double (nullable = true)\n",
      " |-- VSTEXT: double (nullable = true)\n",
      " |-- VSIZE: double (nullable = true)\n",
      " |-- RSIZE: double (nullable = true)\n",
      " |-- VGROW: double (nullable = true)\n",
      " |-- RGROW: double (nullable = true)\n",
      " |-- MEM: double (nullable = true)\n",
      " |-- CMD: string (nullable = true)\n",
      " |-- attack: integer (nullable = true)\n",
      " |-- type: string (nullable = true)\n",
      "\n"
     ]
    }
   ],
   "source": [
    "# check the type of features\n",
    "memory_df_final.printSchema()"
   ]
  },
  {
   "cell_type": "code",
   "execution_count": 68,
   "metadata": {},
   "outputs": [
    {
     "name": "stdout",
     "output_type": "stream",
     "text": [
      "+-------+------------------+-----------------+------------------+--------------------+-----------------+-----------------+------------------+-----------------+------------------+--------------------+\n",
      "|summary|                ts|              PID|            MINFLT|              MAJFLT|           VSTEXT|            VSIZE|             RSIZE|            VGROW|             RGROW|                 MEM|\n",
      "+-------+------------------+-----------------+------------------+--------------------+-----------------+-----------------+------------------+-----------------+------------------+--------------------+\n",
      "|  count|           2000000|          2000000|           2000000|             2000000|          2000000|          2000000|           2000000|          2000000|           2000000|             2000000|\n",
      "|   mean|1.55624581707609E9|      4999.360446|        983.344344|   987846.5873269099|46453.27415208399|4496.419966445697|23722.888664203034|984.4668735599994|      483.17466255|0.003385165000001...|\n",
      "| stddev| 984463.3682778027|4887.313351921437|19229.610980642112|1.4842874238099052E7| 658730.205154297|9046.338093398957|1986383.1808735328|86174.82585202291|1491.4761059171783|0.010943425779985812|\n",
      "|    min|        1554216855|             1007|               0.0|                 0.0|              0.0|              0.0|           -9728.0|       -9392000.0|               0.0|                 0.0|\n",
      "|    max|        1558355716|            53096|         8050000.0|             2.244E8|           1.12E7|          88040.0|           2.244E8|          1.116E7|           98920.0|                0.44|\n",
      "+-------+------------------+-----------------+------------------+--------------------+-----------------+-----------------+------------------+-----------------+------------------+--------------------+\n",
      "\n"
     ]
    }
   ],
   "source": [
    "# numeric feature: count, mean, stddev, min, max\n",
    "\n",
    "# extract numerical columns (except 'attack' column)\n",
    "numeric_memory =  ['ts', 'PID', 'MINFLT', 'MAJFLT', 'VSTEXT', 'VSIZE', 'RSIZE', 'VGROW', 'RGROW', 'MEM']\n",
    "\n",
    "#Summary Statistics\n",
    "memory_df_final.describe(numeric_memory).show(5)\n",
    "\n",
    "# for readability:  memory_df_final.describe(numeric_memory).toPandas().head(5)"
   ]
  },
  {
   "cell_type": "markdown",
   "metadata": {},
   "source": [
    "All columns have the same number of records. <br> <br>\n",
    "\n",
    "- ts\n",
    ": It has the largest scale. <br> <br>\n",
    "\n",
    "- PID, MINFL, RGROW\n",
    ": By comparing |mean-min| to |mean-max|, it is possible that the data is concentrated on the small number side or there are outliers on the large number side.\n",
    "<br> <br>\n",
    "\n",
    "- RSIZE, VGROW\n",
    ": It has negative values.\n",
    "<br> <br>\n",
    "\n",
    "- MEM\n",
    ": It seems that the majority of records are likely to be distributed around 0.\n",
    "<br> <br>"
   ]
  },
  {
   "cell_type": "markdown",
   "metadata": {},
   "source": [
    "Now we will look at the top 10 values for the non-numeric feature of the memory activity."
   ]
  },
  {
   "cell_type": "code",
   "execution_count": 69,
   "metadata": {},
   "outputs": [
    {
     "name": "stdout",
     "output_type": "stream",
     "text": [
      "+----------+------+\n",
      "|       CMD| Count|\n",
      "+----------+------+\n",
      "|      atop|325985|\n",
      "|   apache2| 89761|\n",
      "| jfsCommit| 81714|\n",
      "|  vmtoolsd| 77871|\n",
      "|      Xorg| 49981|\n",
      "|  nautilus| 48356|\n",
      "|irqbalance| 44387|\n",
      "|    compiz| 44356|\n",
      "|  ostinato| 43024|\n",
      "|     drone| 41392|\n",
      "+----------+------+\n",
      "only showing top 10 rows\n",
      "\n"
     ]
    }
   ],
   "source": [
    "# non-numeric feature: top-10 values and the corresponding counts\n",
    "\n",
    "# extract non-numeric columns (except 'type' column)\n",
    "non_numeric_memory =  'CMD'\n",
    "\n",
    "# top-10 values and the corresponding counts\n",
    "memory_df_final_count_CMD = memory_df_final.groupby(\"CMD\").agg(F.count(\"CMD\").alias('Count'))\n",
    "memory_df_final_count_CMD.orderBy(memory_df_final_count_CMD.Count, ascending=False).show(10)"
   ]
  },
  {
   "cell_type": "markdown",
   "metadata": {},
   "source": [
    "It seems 'atop' has an overwhelmingly larger number of counts than other classes."
   ]
  },
  {
   "cell_type": "markdown",
   "metadata": {},
   "source": [
    "#### 3. For each activity, present two plots worthy of presenting to the StopHacking company, describe your plots and discuss the findings from the plots"
   ]
  },
  {
   "cell_type": "markdown",
   "metadata": {},
   "source": [
    "#### ○ Hint - 1: you can use the basic plots (e.g. histograms, line charts, scatter plots) for relationship between a column and the “attack” label (such as “ts” and “attack”, “PID” and “attack”); or more advanced plots like correlation plots for relationship between each column; 2: if your data is too large for the plotting, consider using sampling before plotting"
   ]
  },
  {
   "cell_type": "markdown",
   "metadata": {},
   "source": [
    "#### ○ 100 words max for each plot’s description and discussion"
   ]
  },
  {
   "cell_type": "code",
   "execution_count": 70,
   "metadata": {},
   "outputs": [],
   "source": [
    "# !pip install matplotlib\n",
    "# !pip install seaborn\n",
    "# !pip install pandas\n",
    "# !pip install dython\n",
    "\n",
    "import matplotlib.pyplot as plt\n",
    "import seaborn as sns\n",
    "import pandas as pd\n",
    "from dython import nominal"
   ]
  },
  {
   "cell_type": "markdown",
   "metadata": {},
   "source": [
    "#### <li>  Process activity"
   ]
  },
  {
   "cell_type": "code",
   "execution_count": 71,
   "metadata": {},
   "outputs": [],
   "source": [
    "# for making it easy to plot, convert a spark dataframe to pandas dataframe\n",
    "process_df_pandas = process_df_final.toPandas()"
   ]
  },
  {
   "cell_type": "markdown",
   "metadata": {},
   "source": [
    "First, we will look at the relationship between the numeric columns through a correlation matrix plot using Pearson's correlation coefficient.\n",
    "\n",
    "https://datascience.stackexchange.com/questions/14356/is-a-correlation-matrix-meaningful-for-a-binary-classification-task"
   ]
  },
  {
   "cell_type": "code",
   "execution_count": 72,
   "metadata": {},
   "outputs": [
    {
     "data": {
      "text/plain": [
       "<AxesSubplot:>"
      ]
     },
     "execution_count": 72,
     "metadata": {},
     "output_type": "execute_result"
    },
    {
     "data": {
      "image/png": "[encoded data removed]",
      "text/plain": [
       "<Figure size 432x288 with 2 Axes>"
      ]
     },
     "metadata": {
      "needs_background": "light"
     },
     "output_type": "display_data"
    }
   ],
   "source": [
    "# draw a correlation plot between numeric values \n",
    "corr_process = process_df_pandas.corr()\n",
    "sns.heatmap(corr_process, xticklabels=corr_process.columns, yticklabels=corr_process.columns, \n",
    "            annot= True, fmt=\".2f\", annot_kws={\"size\":7.5})"
   ]
  },
  {
   "cell_type": "markdown",
   "metadata": {},
   "source": [
    "![](http://www.uow.edu.au/content/groups/public/@web/@stsv/documents/mm/uow153493.gif)\n",
    "\n",
    "http://www.uow.edu.au/content/groups/public/@web/@stsv/documents/mm/uow153493.gif"
   ]
  },
  {
   "cell_type": "markdown",
   "metadata": {},
   "source": [
    "* According to the table above, we will look for variables with a correlation of more than moderate level . From the plot above,it seems that TRUN and CPU have a moderate positive correlation. What we need to considere here is that when there is a correlation between independent variables, the problem of multicollinearity may appear, which can affect the performance of models negatively. <br> <br>\n",
    "\n",
    "* The data corresponding to the RTPR column, which had only 0 values, is empty. This is related to how the correlation coefficient is calculated as, follows: <br><br> $\\frac{cov(i,j)}{stddev(i)*stddev(j)}$ <br><br> If the values of the ith or jth variable do not vary, then the respective standard deviation will be zero and so will the denominator of the fraction. Thus, the correlation will be NaN. \n",
    "\n",
    "https://stackoverflow.com/questions/22655667/dataframe-correlation-produces-nan-although-its-values-are-all-integers"
   ]
  },
  {
   "cell_type": "markdown",
   "metadata": {},
   "source": [
    "In fact, our target variable, attack, is numeric, but it is close to binary class, so it is not appropriate to use Pearson's coefficient. \n",
    "To see if the above plot can be referenced for the target variable as well, we will use Point Biserial Correlation to calculate the correlation between the continuous variable and the categorical variable. \n",
    "\n",
    "https://towardsdatascience.com/point-biserial-correlation-with-python-f7cd591bd3b1"
   ]
  },
  {
   "cell_type": "code",
   "execution_count": 73,
   "metadata": {},
   "outputs": [],
   "source": [
    "from scipy.stats import pointbiserialr"
   ]
  },
  {
   "cell_type": "code",
   "execution_count": 74,
   "metadata": {},
   "outputs": [
    {
     "data": {
      "text/plain": [
       "PointbiserialrResult(correlation=0.023794559374089447, pvalue=1.9154714409441995e-239)"
      ]
     },
     "execution_count": 74,
     "metadata": {},
     "output_type": "execute_result"
    }
   ],
   "source": [
    "pointbiserialr(process_df_pandas['attack'], process_df_pandas['ts'])"
   ]
  },
  {
   "cell_type": "code",
   "execution_count": 75,
   "metadata": {},
   "outputs": [
    {
     "data": {
      "text/plain": [
       "PointbiserialrResult(correlation=-0.05364267840368056, pvalue=0.0)"
      ]
     },
     "execution_count": 75,
     "metadata": {},
     "output_type": "execute_result"
    }
   ],
   "source": [
    "pointbiserialr(process_df_pandas['attack'], process_df_pandas['PID'])"
   ]
  },
  {
   "cell_type": "code",
   "execution_count": 76,
   "metadata": {},
   "outputs": [
    {
     "data": {
      "text/plain": [
       "PointbiserialrResult(correlation=0.051909464848070824, pvalue=0.0)"
      ]
     },
     "execution_count": 76,
     "metadata": {},
     "output_type": "execute_result"
    }
   ],
   "source": [
    "pointbiserialr(process_df_pandas['attack'], process_df_pandas['TSLPI'])"
   ]
  },
  {
   "cell_type": "markdown",
   "metadata": {},
   "source": [
    "It seems the correlation coeffecients are similar to those in the plot, thus we can refer to the plot for the target variable as well. However, there seems to be no feature which is correlated with the attack attribute."
   ]
  },
  {
   "cell_type": "markdown",
   "metadata": {},
   "source": [
    "Now, we will plot the correlation between categorical variable using Cramer's V\n",
    "\n",
    "https://github.com/shakedzy/dython/issues/2"
   ]
  },
  {
   "cell_type": "code",
   "execution_count": 77,
   "metadata": {},
   "outputs": [
    {
     "name": "stderr",
     "output_type": "stream",
     "text": [
      "/home/student/.local/lib/python3.8/site-packages/pandas/core/frame.py:4147: SettingWithCopyWarning: \n",
      "A value is trying to be set on a copy of a slice from a DataFrame\n",
      "\n",
      "See the caveats in the documentation: https://pandas.pydata.org/pandas-docs/stable/user_guide/indexing.html#returning-a-view-versus-a-copy\n",
      "  return super().fillna(\n"
     ]
    },
    {
     "data": {
      "image/png": "[encoded data removed]",
      "text/plain": [
       "<Figure size 432x288 with 2 Axes>"
      ]
     },
     "metadata": {
      "needs_background": "light"
     },
     "output_type": "display_data"
    },
    {
     "data": {
      "text/plain": [
       "{'corr':             POLI    Status     State       CMD    attack\n",
       " POLI    1.000000  0.608415  0.707105  0.864860  0.049269\n",
       " Status  0.608415  1.000000  0.352136  0.725013  0.201897\n",
       " State   0.707105  0.352136  1.000000  0.573465  0.035817\n",
       " CMD     0.864860  0.725013  0.573465  1.000000  0.169426\n",
       " attack  0.049269  0.201897  0.035817  0.169426  1.000000,\n",
       " 'ax': <AxesSubplot:>}"
      ]
     },
     "execution_count": 77,
     "metadata": {},
     "output_type": "execute_result"
    }
   ],
   "source": [
    "# draw a correlation plot between non-numeric values \n",
    "nominal.associations(process_df_pandas[['POLI', 'Status', 'State', 'CMD', 'attack']], nominal_columns='all')"
   ]
  },
  {
   "cell_type": "markdown",
   "metadata": {},
   "source": [
    "It seemes there are more correlated non-numeric variables than numeric-variables. The State and POLI, CMD and Status, Status and POLI, and CMD and State, have a moderate positive correlation. Moreover, the CMD and POLI have a strong positive correlation. On the other hand, there is no feature which is correlated with the target variable. It should be noted that when categorical variables are converted to dummy variables, multicollinearity can occur, like continuous variables do."
   ]
  },
  {
   "cell_type": "markdown",
   "metadata": {},
   "source": [
    "#### <li> Memory activity"
   ]
  },
  {
   "cell_type": "code",
   "execution_count": 78,
   "metadata": {},
   "outputs": [],
   "source": [
    "# for making it easy to plot, convert a spark dataframe to pandas dataframe\n",
    "memory_df_pandas = memory_df_final.toPandas()"
   ]
  },
  {
   "cell_type": "code",
   "execution_count": 79,
   "metadata": {},
   "outputs": [
    {
     "data": {
      "text/plain": [
       "<AxesSubplot:>"
      ]
     },
     "execution_count": 79,
     "metadata": {},
     "output_type": "execute_result"
    },
    {
     "data": {
      "image/png": "[encoded data removed]",
      "text/plain": [
       "<Figure size 432x288 with 2 Axes>"
      ]
     },
     "metadata": {
      "needs_background": "light"
     },
     "output_type": "display_data"
    }
   ],
   "source": [
    "# draw a correlation plot \n",
    "corr_memory = memory_df_pandas.corr()\n",
    "sns.heatmap(corr_memory, xticklabels=corr_memory.columns, yticklabels=corr_memory.columns, \n",
    "            annot= True, fmt=\".2f\", annot_kws={\"size\":7.5})"
   ]
  },
  {
   "cell_type": "markdown",
   "metadata": {},
   "source": [
    "From the plot above, it seems that VSTEXT and MAJFLT, and RSIZE and VGROW, have such a strong positive correlation. In particular, the correlation coefficient between VSTEXT and MAJFLT is equal to 1. In addtion, there is moderate negative correlation between ts and PID. However, the attack seems to be not highly correlated to any feature."
   ]
  },
  {
   "cell_type": "code",
   "execution_count": 80,
   "metadata": {},
   "outputs": [
    {
     "name": "stderr",
     "output_type": "stream",
     "text": [
      "/home/student/.local/lib/python3.8/site-packages/pandas/core/frame.py:4147: SettingWithCopyWarning: \n",
      "A value is trying to be set on a copy of a slice from a DataFrame\n",
      "\n",
      "See the caveats in the documentation: https://pandas.pydata.org/pandas-docs/stable/user_guide/indexing.html#returning-a-view-versus-a-copy\n",
      "  return super().fillna(\n"
     ]
    },
    {
     "data": {
      "image/png": "[encoded data removed]",
      "text/plain": [
       "<Figure size 432x288 with 2 Axes>"
      ]
     },
     "metadata": {
      "needs_background": "light"
     },
     "output_type": "display_data"
    },
    {
     "data": {
      "text/plain": [
       "{'corr':              CMD    attack\n",
       " CMD     1.000000  0.213625\n",
       " attack  0.213625  1.000000,\n",
       " 'ax': <AxesSubplot:>}"
      ]
     },
     "execution_count": 80,
     "metadata": {},
     "output_type": "execute_result"
    }
   ],
   "source": [
    "nominal.associations(memory_df_pandas[['CMD', 'attack']], nominal_columns='all')"
   ]
  },
  {
   "cell_type": "markdown",
   "metadata": {},
   "source": [
    "It seems the CMD is not significantly correlated with the target attribute, attack."
   ]
  },
  {
   "cell_type": "markdown",
   "metadata": {},
   "source": [
    "<a class=\"anchor\" name=\"two\"></a>\n",
    "## 2. Feature extraction and ML training"
   ]
  },
  {
   "cell_type": "markdown",
   "metadata": {},
   "source": [
    "<a class=\"anchor\" name=\"two1\"></a>\n",
    "## 2.1 Preparing the training data and testing data"
   ]
  },
  {
   "cell_type": "markdown",
   "metadata": {},
   "source": [
    "#### 1. Randomly split the dataset into 80% training data and 20% testing data for each use case"
   ]
  },
  {
   "cell_type": "code",
   "execution_count": 81,
   "metadata": {},
   "outputs": [],
   "source": [
    "# process activity\n",
    "train_process, test_process = process_df_final.randomSplit([0.8, 0.2])\n",
    "\n",
    "# memory activity\n",
    "train_memory, test_memory = memory_df_final.randomSplit([0.8, 0.2])"
   ]
  },
  {
   "cell_type": "markdown",
   "metadata": {},
   "source": [
    "#### 2. With the class imbalance observed from 1.3.1, for the binary classification use case 1 & 2, prepare rebalanced training data, with attack events and non-attack events being 1:2 ratio, while using 20% attack events data from the training data from 2.1.1. Cache the rebalanced training data, and display the count of each event's data."
   ]
  },
  {
   "cell_type": "markdown",
   "metadata": {},
   "source": [
    "#### ○ Hint - you can use undersampling to get the rebalanced training data"
   ]
  },
  {
   "cell_type": "markdown",
   "metadata": {},
   "source": [
    "https://medium.com/@junwan01/oversampling-and-undersampling-with-pyspark-5dbc25cdf253"
   ]
  },
  {
   "cell_type": "code",
   "execution_count": 82,
   "metadata": {},
   "outputs": [],
   "source": [
    "from pyspark.sql.functions import explode, array"
   ]
  },
  {
   "cell_type": "markdown",
   "metadata": {},
   "source": [
    "#### <li> Process data"
   ]
  },
  {
   "cell_type": "code",
   "execution_count": 83,
   "metadata": {},
   "outputs": [
    {
     "name": "stdout",
     "output_type": "stream",
     "text": [
      "Before undersampling, attack: non-attack = 1: 5\n"
     ]
    }
   ],
   "source": [
    "# calculate ratio\n",
    "major_df_process = train_process.filter(col(\"attack\") == 0)\n",
    "minor_df_process = train_process.filter(col(\"attack\") == 1)\n",
    "ratio_df_process = int(major_df_process.count()/minor_df_process.count())\n",
    "print(\"Before undersampling, attack: non-attack = 1:\",ratio_df_process)"
   ]
  },
  {
   "cell_type": "code",
   "execution_count": 84,
   "metadata": {},
   "outputs": [],
   "source": [
    "# using 20% attack events data from the training data\n",
    "sampled_minority_df_process_attack = minor_df_process.sample(False, 0.2)\n",
    "combined_df_process_attack = sampled_minority_df_process_attack.unionAll(major_df_process)"
   ]
  },
  {
   "cell_type": "code",
   "execution_count": 85,
   "metadata": {},
   "outputs": [
    {
     "name": "stdout",
     "output_type": "stream",
     "text": [
      "After undersampling, attack: non-attack = 1: 28\n"
     ]
    }
   ],
   "source": [
    "# calculate ratio\n",
    "major_process_attack = combined_df_process_attack.filter(col(\"attack\") == 0)\n",
    "minor_process_attack = combined_df_process_attack.filter(col(\"attack\") == 1)\n",
    "ratio_process_attack = int(major_process_attack.count()/minor_process_attack.count())\n",
    "print(\"After undersampling, attack: non-attack = 1:\", ratio_process_attack)"
   ]
  },
  {
   "cell_type": "code",
   "execution_count": 86,
   "metadata": {},
   "outputs": [],
   "source": [
    "# attack events and non-attack events being 1:2 ratio\n",
    "sampled_majority_df_process = major_process_attack.sample(False, 1/14)\n",
    "combined_df_process= sampled_majority_df_process.unionAll(minor_process_attack)"
   ]
  },
  {
   "cell_type": "code",
   "execution_count": 87,
   "metadata": {},
   "outputs": [
    {
     "name": "stdout",
     "output_type": "stream",
     "text": [
      "After undersampling, attack: non-attack = 1: 2\n"
     ]
    }
   ],
   "source": [
    "major_process = combined_df_process.filter(col(\"attack\") == 0)\n",
    "minor_process= combined_df_process.filter(col(\"attack\") == 1)\n",
    "ratio_process = int(major_process.count()/minor_process.count())\n",
    "print(\"After undersampling, attack: non-attack = 1:\", ratio_process)"
   ]
  },
  {
   "cell_type": "code",
   "execution_count": 88,
   "metadata": {},
   "outputs": [
    {
     "data": {
      "text/plain": [
       "DataFrame[ts: int, PID: int, TRUN: int, TSLPI: int, TSLPU: int, POLI: string, NICE: int, PRI: int, RTPR: int, CPUNR: int, Status: string, EXC: int, State: string, CPU: double, CMD: string, attack: int, type: string]"
      ]
     },
     "execution_count": 88,
     "metadata": {},
     "output_type": "execute_result"
    }
   ],
   "source": [
    "# Cache the rebalanced training data\n",
    "combined_df_process.cache()"
   ]
  },
  {
   "cell_type": "code",
   "execution_count": 89,
   "metadata": {},
   "outputs": [
    {
     "name": "stdout",
     "output_type": "stream",
     "text": [
      "+------+-----+\n",
      "|attack|Count|\n",
      "+------+-----+\n",
      "|     1|46739|\n",
      "|     0|93865|\n",
      "+------+-----+\n",
      "\n"
     ]
    }
   ],
   "source": [
    "# count of attack and non-attack in process activity\n",
    "combined_df_process_count = combined_df_process.groupby(\"attack\").agg(F.count(\"attack\").alias('Count'))\n",
    "combined_df_process_count.show()"
   ]
  },
  {
   "cell_type": "markdown",
   "metadata": {},
   "source": [
    "#### <li> Memory data"
   ]
  },
  {
   "cell_type": "code",
   "execution_count": 90,
   "metadata": {},
   "outputs": [
    {
     "name": "stdout",
     "output_type": "stream",
     "text": [
      "Before undersampling, attack: non-attack = 1: 8\n"
     ]
    }
   ],
   "source": [
    "# calculate ratio\n",
    "major_df_memory = train_memory.filter(col(\"attack\") == 0)\n",
    "minor_df_memory = train_memory.filter(col(\"attack\") == 1)\n",
    "ratio_df_memory = int(major_df_memory.count()/minor_df_memory.count())\n",
    "print(\"Before undersampling, attack: non-attack = 1:\",ratio_df_memory)"
   ]
  },
  {
   "cell_type": "code",
   "execution_count": 91,
   "metadata": {},
   "outputs": [],
   "source": [
    "# using 20% attack events data from the training data\n",
    "sampled_minority_df_memory_attack = minor_df_memory.sample(False, 0.2)\n",
    "combined_df_memory_attack = sampled_minority_df_memory_attack.unionAll(major_df_memory)"
   ]
  },
  {
   "cell_type": "code",
   "execution_count": 92,
   "metadata": {},
   "outputs": [
    {
     "name": "stdout",
     "output_type": "stream",
     "text": [
      "After undersampling, attack: non-attack = 1: 43\n"
     ]
    }
   ],
   "source": [
    "# calculate ratio\n",
    "major_memory_attack = combined_df_memory_attack.filter(col(\"attack\") == 0)\n",
    "minor_memory_attack = combined_df_memory_attack.filter(col(\"attack\") == 1)\n",
    "ratio_memory_attack = int(major_memory_attack.count()/minor_memory_attack.count())\n",
    "print(\"After undersampling, attack: non-attack = 1:\", ratio_memory_attack)"
   ]
  },
  {
   "cell_type": "code",
   "execution_count": 93,
   "metadata": {},
   "outputs": [],
   "source": [
    "# attack events and non-attack events being 1:2 ratio\n",
    "sampled_majority_df_memory = major_memory_attack.sample(False, 1/21)\n",
    "combined_df_memory= sampled_majority_df_memory.unionAll(minor_memory_attack)"
   ]
  },
  {
   "cell_type": "code",
   "execution_count": 94,
   "metadata": {},
   "outputs": [
    {
     "name": "stdout",
     "output_type": "stream",
     "text": [
      "After undersampling, attack: non-attack = 1: 2\n"
     ]
    }
   ],
   "source": [
    "# calculate ratio\n",
    "major_memory = combined_df_memory.filter(col(\"attack\") == 0)\n",
    "minor_memory= combined_df_memory.filter(col(\"attack\") == 1)\n",
    "ratio_memory = int(major_memory.count()/minor_memory.count())\n",
    "print(\"After undersampling, attack: non-attack = 1:\", ratio_memory)"
   ]
  },
  {
   "cell_type": "code",
   "execution_count": 95,
   "metadata": {},
   "outputs": [
    {
     "data": {
      "text/plain": [
       "DataFrame[ts: int, PID: int, MINFLT: double, MAJFLT: double, VSTEXT: double, VSIZE: double, RSIZE: double, VGROW: double, RGROW: double, MEM: double, CMD: string, attack: int, type: string]"
      ]
     },
     "execution_count": 95,
     "metadata": {},
     "output_type": "execute_result"
    }
   ],
   "source": [
    "# Cache the rebalanced training data\n",
    "combined_df_memory.cache()"
   ]
  },
  {
   "cell_type": "code",
   "execution_count": 96,
   "metadata": {},
   "outputs": [
    {
     "name": "stdout",
     "output_type": "stream",
     "text": [
      "+------+-----+\n",
      "|attack|Count|\n",
      "+------+-----+\n",
      "|     1|32785|\n",
      "|     0|68568|\n",
      "+------+-----+\n",
      "\n"
     ]
    }
   ],
   "source": [
    "# count of attack and non-attack in memory activity\n",
    "combined_df_memory_count = combined_df_memory.groupby(\"attack\").agg(F.count(\"attack\").alias('Count'))\n",
    "combined_df_memory_count.show()"
   ]
  },
  {
   "cell_type": "markdown",
   "metadata": {},
   "source": [
    "<a class=\"anchor\" name=\"two2\"></a>\n",
    "## 2.2 Preparing features, labels and models"
   ]
  },
  {
   "cell_type": "markdown",
   "metadata": {},
   "source": [
    "#### 1. Based on data exploration from 1.3.3, which features would you select? Discuss the reason for selecting them and how you plan to further transform them."
   ]
  },
  {
   "cell_type": "markdown",
   "metadata": {},
   "source": [
    "#### <li> Process data"
   ]
  },
  {
   "cell_type": "markdown",
   "metadata": {},
   "source": [
    "* Numeric features "
   ]
  },
  {
   "cell_type": "markdown",
   "metadata": {},
   "source": [
    "1. Remove RTPR column: It only contains 0 values with 0 stddev. Thus, it will be not meaningful when building a model. <br><br>\n",
    "\n",
    "2. Remove TRUN column: We found that TRUN and CPU are correlated. It indicates there might be a multicollinearity issue if we utilize both of them. Therefore, we will only use one of them when building models. In this case, the CPU will be selected, since it has a higer correlation with the target variable than that of the TRUN."
   ]
  },
  {
   "cell_type": "markdown",
   "metadata": {},
   "source": [
    "To check whether there are variables that need preprocessing, we will draw a box plot of numeric variables excluding RTPR and TRUN.\n",
    "\n",
    "https://stackoverflow.com/questions/3305865/what-is-the-difference-between-log-and-symlog"
   ]
  },
  {
   "cell_type": "code",
   "execution_count": 97,
   "metadata": {},
   "outputs": [
    {
     "data": {
      "image/png": "[encoded data removed]",
      "text/plain": [
       "<Figure size 432x288 with 1 Axes>"
      ]
     },
     "metadata": {
      "needs_background": "light"
     },
     "output_type": "display_data"
    }
   ],
   "source": [
    "# take a symlog for comparison\n",
    "train_process_pd = combined_df_process.toPandas()\n",
    "numeric_process_new =  ['ts', 'PID', 'TSLPI', 'TSLPU', 'NICE', 'PRI', 'CPUNR', 'EXC', 'CPU']\n",
    "feature_numeric_process = train_process_pd.loc[:, numeric_process_new]\n",
    "feature_numeric_process.boxplot()\n",
    "plt.xticks(rotation=90)\n",
    "plt.yscale('symlog')"
   ]
  },
  {
   "cell_type": "markdown",
   "metadata": {},
   "source": [
    "In the case of TSLPU, NICE, and CPU, it seems that most of the values are concentrated in a very narrow range. These columns are likely to have skewed data. On the other hand, the ts and PID have significantly larger scales than other variables. Since most attributes are overshadowed by these attributes, scaling process should be proceeded. However, since we will use a decision tree and gradient boosted tree, which do not require normalization or standardization processes seperately, we will not pre-process the data of these variables.<br><br>\n",
    "In conclusion, all features themselves, will be used for building the models, except RTPR and TRUN."
   ]
  },
  {
   "cell_type": "markdown",
   "metadata": {},
   "source": [
    "https://www.quora.com/Is-multicollinearity-a-problem-in-decision-trees\n",
    "\n",
    "https://towardsdatascience.com/a-guide-to-decision-trees-for-machine-learning-and-data-science-fe2607241956\n",
    "\n",
    "https://medium.com/cracking-the-data-science-interview/decision-trees-how-to-optimize-my-decision-making-process-e1f327999c7a\n",
    "https://ai-times.tistory.com/149"
   ]
  },
  {
   "cell_type": "markdown",
   "metadata": {},
   "source": [
    "* Non-numeric features"
   ]
  },
  {
   "cell_type": "markdown",
   "metadata": {},
   "source": [
    "We have found that: <br>\n",
    "* strong positive correlation: CMD & POLI <br>\n",
    "* moderate positive correlation: <br>\n",
    "  - State & POLI <br>\n",
    "  - CMD & Status <br>\n",
    "  - Status & POLI <br>\n",
    "  - CMD & State <br> <br>\n",
    "  \n",
    "Based on the strength of each correlation between features, or between each feature and attack variable, we will only select CMD and Status. Both features are not ordinal categorical variables, so we will choose one-hot encoding transformation."
   ]
  },
  {
   "cell_type": "markdown",
   "metadata": {},
   "source": [
    "https://blogs.ashrithgn.com/basic-encoding-label-encoding-and-one-hot-encoding-in-scala-with-apache-spark/"
   ]
  },
  {
   "cell_type": "markdown",
   "metadata": {},
   "source": [
    "#### <li> Memory data"
   ]
  },
  {
   "cell_type": "markdown",
   "metadata": {},
   "source": [
    "* Numeric features <br>"
   ]
  },
  {
   "cell_type": "markdown",
   "metadata": {},
   "source": [
    "1. Remove MAJFLT: The VSTEXT and MAJFLT are strongly correlated. Also, these attributes have the same correlation coefficients for the target variable. Thus, we will randomly keep one of them, in this case, VSTEXT. <br><br>\n",
    "2. Remove VGROW: The RSIZE and VGROW are strongly correlated. In addition, they have the same correlation coefficients for the attack column. Therefore, only one of those variables will be selected randomly, in this case, RSIZE. <br><br>\n",
    "3. Keep both ts and PID: The ts and PID are moderately correlated. Thus, we can remove one of them. However, they did not have a high correlation in process activity, we will keep both features here. "
   ]
  },
  {
   "cell_type": "markdown",
   "metadata": {},
   "source": [
    "Boxplot will be drawed to check the distribution and scale of each numeric variable."
   ]
  },
  {
   "cell_type": "code",
   "execution_count": 98,
   "metadata": {},
   "outputs": [
    {
     "data": {
      "image/png": "[encoded data removed]",
      "text/plain": [
       "<Figure size 432x288 with 1 Axes>"
      ]
     },
     "metadata": {
      "needs_background": "light"
     },
     "output_type": "display_data"
    }
   ],
   "source": [
    "# take a symlog for comparison\n",
    "train_memory_pd = combined_df_memory.toPandas()\n",
    "numeric_memory_new =  ['ts', 'PID', 'MINFLT', 'VSTEXT', 'VSIZE', 'RSIZE', 'RGROW', 'MEM']\n",
    "feature_numeric_memory = train_memory_pd.loc[:, numeric_memory_new]\n",
    "feature_numeric_memory.boxplot()\n",
    "plt.xticks(rotation=90)\n",
    "plt.yscale('symlog')"
   ]
  },
  {
   "cell_type": "markdown",
   "metadata": {},
   "source": [
    "It is observed that, for the RGROW, there are a large number of outliers and most of the values are concentrated in a very narrow range. On the other hand, it seems that the ts has significantly larger scales than other variables. For the same reason as mentioned in the process activity above, standardization and normalization will not be performed for these columns."
   ]
  },
  {
   "cell_type": "markdown",
   "metadata": {},
   "source": [
    "In short, 'ts', 'PID', 'MINFLT', 'VSTEXT', 'VSIZE', 'RSIZE', 'RGROW' and 'MEM' will be selected among the numeric features."
   ]
  },
  {
   "cell_type": "markdown",
   "metadata": {},
   "source": [
    "* Non-numeric features"
   ]
  },
  {
   "cell_type": "markdown",
   "metadata": {},
   "source": [
    "There is only one non-numeric feature in memory activity. Since it is not an ordinal categorical variable, the one-hot encoding transformation will be proceeded."
   ]
  },
  {
   "cell_type": "markdown",
   "metadata": {},
   "source": [
    "#### 2. Create Transformers / Estimators for transforming / assembling the features you selected above in 2.2.1"
   ]
  },
  {
   "cell_type": "markdown",
   "metadata": {},
   "source": [
    "#### <li> Process activity"
   ]
  },
  {
   "cell_type": "code",
   "execution_count": 99,
   "metadata": {},
   "outputs": [],
   "source": [
    "# numeric columns & attack\n",
    "numeric_process_attack = ['ts', 'PID', 'TSLPI', 'TSLPU', 'NICE', 'PRI', 'CPUNR', 'EXC',  'CPU', 'attack']\n",
    "\n",
    "# non-numeric columns\n",
    "non_numerics_process = ['Status', 'CMD']"
   ]
  },
  {
   "cell_type": "code",
   "execution_count": 100,
   "metadata": {},
   "outputs": [],
   "source": [
    "# StringIndexer for categorical values\n",
    "from pyspark.ml.feature import StringIndexer\n",
    "\n",
    "inputCols = [x for x in non_numerics_process]\n",
    "outputCols = [f'{x}_index' for x in inputCols]\n",
    "\n",
    "stage_1 = StringIndexer(inputCols=inputCols, outputCols=outputCols).setHandleInvalid(\"keep\")"
   ]
  },
  {
   "cell_type": "code",
   "execution_count": 101,
   "metadata": {},
   "outputs": [],
   "source": [
    "# One hot encoder for categorical values\n",
    "from pyspark.ml.feature import OneHotEncoder\n",
    "\n",
    "inputCols_OHE = [x for x in outputCols]\n",
    "outputCols_OHE = [f'{x}_vec' for x in inputCols]\n",
    "\n",
    "stage_2 = OneHotEncoder(inputCols=inputCols_OHE, outputCols=outputCols_OHE)"
   ]
  },
  {
   "cell_type": "code",
   "execution_count": 102,
   "metadata": {},
   "outputs": [],
   "source": [
    "# VectorAssembler for all features\n",
    "from pyspark.ml.feature import VectorAssembler\n",
    "\n",
    "inputCols_VA= outputCols_OHE +[x for x in numeric_process_attack if x!='attack']\n",
    "stage_3 = VectorAssembler(inputCols=inputCols_VA, outputCol='features')"
   ]
  },
  {
   "cell_type": "markdown",
   "metadata": {},
   "source": [
    "#### <li> Memory activity"
   ]
  },
  {
   "cell_type": "code",
   "execution_count": 103,
   "metadata": {},
   "outputs": [],
   "source": [
    "# numeric columns & attack\n",
    "numeric_memory_attack =  ['ts', 'PID', 'MINFLT', 'VSTEXT', 'VSIZE', 'RSIZE', 'RGROW', 'MEM', 'attack']\n",
    "\n",
    "# non-numeric columns \n",
    "non_numerics_memory =  ['CMD']"
   ]
  },
  {
   "cell_type": "code",
   "execution_count": 104,
   "metadata": {},
   "outputs": [],
   "source": [
    "# StringIndexer for categorical values\n",
    "\n",
    "inputCols_memory = [x for x in non_numerics_memory]\n",
    "outputCols_memory = [f'{x}_index' for x in inputCols_memory]\n",
    "\n",
    "stage_1_memory = StringIndexer(inputCols=inputCols_memory, outputCols=outputCols_memory).setHandleInvalid(\"keep\")"
   ]
  },
  {
   "cell_type": "code",
   "execution_count": 105,
   "metadata": {},
   "outputs": [],
   "source": [
    "# One hot encoder for categorical values\n",
    "\n",
    "inputCols_OHE_memory = [x for x in outputCols_memory]\n",
    "outputCols_OHE_memory = [f'{x}_vec' for x in inputCols_memory]\n",
    "\n",
    "stage_2_memory = OneHotEncoder(inputCols=inputCols_OHE_memory, outputCols=outputCols_OHE_memory)"
   ]
  },
  {
   "cell_type": "code",
   "execution_count": 106,
   "metadata": {},
   "outputs": [],
   "source": [
    "# VectorAssembler for all features\n",
    "\n",
    "inputCols_VA_memory = outputCols_OHE_memory +[x for x in numeric_memory_attack if x!='attack']\n",
    "stage_3_memory = VectorAssembler(inputCols=inputCols_VA_memory, outputCol='features')"
   ]
  },
  {
   "cell_type": "markdown",
   "metadata": {},
   "source": [
    "#### 3. Prepare Estimators for Decision Tree and Gradient Boosted Tree model for each use case and include them into ML Pipelines for use case 1, 2"
   ]
  },
  {
   "cell_type": "markdown",
   "metadata": {},
   "source": [
    "#### <li> Process activity"
   ]
  },
  {
   "cell_type": "markdown",
   "metadata": {},
   "source": [
    "* Decision Tree"
   ]
  },
  {
   "cell_type": "code",
   "execution_count": 107,
   "metadata": {},
   "outputs": [],
   "source": [
    "from pyspark.ml.classification import DecisionTreeClassifier"
   ]
  },
  {
   "cell_type": "code",
   "execution_count": 108,
   "metadata": {},
   "outputs": [],
   "source": [
    "dt_process = DecisionTreeClassifier(featuresCol = 'features', labelCol = 'attack', maxDepth = 3)"
   ]
  },
  {
   "cell_type": "code",
   "execution_count": 109,
   "metadata": {},
   "outputs": [],
   "source": [
    "from pyspark.ml import Pipeline"
   ]
  },
  {
   "cell_type": "code",
   "execution_count": 110,
   "metadata": {},
   "outputs": [],
   "source": [
    "#Implement the PipelineAPI\n",
    "pipeline_process_dt = Pipeline(stages=[stage_1, stage_2, stage_3, dt_process])"
   ]
  },
  {
   "cell_type": "markdown",
   "metadata": {},
   "source": [
    "* Gradient Boosted Tree"
   ]
  },
  {
   "cell_type": "code",
   "execution_count": 111,
   "metadata": {},
   "outputs": [],
   "source": [
    "from pyspark.ml.classification import GBTClassifier"
   ]
  },
  {
   "cell_type": "code",
   "execution_count": 112,
   "metadata": {},
   "outputs": [],
   "source": [
    "gbt_process = GBTClassifier(featuresCol=\"features\", labelCol=\"attack\", maxIter=10)"
   ]
  },
  {
   "cell_type": "code",
   "execution_count": 113,
   "metadata": {},
   "outputs": [],
   "source": [
    "#Implement the PipelineAPI\n",
    "pipeline_process_gbt = Pipeline(stages=[stage_1, stage_2, stage_3, gbt_process])"
   ]
  },
  {
   "cell_type": "markdown",
   "metadata": {},
   "source": [
    "https://medium.com/@aieeshashafique/gradient-boost-model-using-pyspark-mllib-solving-a-chronic-kidney-disease-problem-13039b6dc099"
   ]
  },
  {
   "cell_type": "markdown",
   "metadata": {},
   "source": [
    "#### <li> Memory activity"
   ]
  },
  {
   "cell_type": "markdown",
   "metadata": {},
   "source": [
    "* Decision Tree"
   ]
  },
  {
   "cell_type": "code",
   "execution_count": 114,
   "metadata": {},
   "outputs": [],
   "source": [
    "dt_memory = DecisionTreeClassifier(featuresCol = 'features', labelCol = 'attack', maxDepth = 3)"
   ]
  },
  {
   "cell_type": "code",
   "execution_count": 115,
   "metadata": {},
   "outputs": [],
   "source": [
    "#Implement the PipelineAPI\n",
    "pipeline_memory_dt = Pipeline(stages=[stage_1_memory, stage_2_memory, stage_3_memory, dt_memory])"
   ]
  },
  {
   "cell_type": "markdown",
   "metadata": {},
   "source": [
    "* Gradient Boosted Tree"
   ]
  },
  {
   "cell_type": "code",
   "execution_count": 116,
   "metadata": {},
   "outputs": [],
   "source": [
    "gbt_memory = GBTClassifier(featuresCol=\"features\", labelCol=\"attack\", maxIter=10)"
   ]
  },
  {
   "cell_type": "code",
   "execution_count": 117,
   "metadata": {},
   "outputs": [],
   "source": [
    "#Implement the PipelineAPI\n",
    "pipeline_memory_gbt = Pipeline(stages=[stage_1_memory, stage_2_memory, stage_3_memory, gbt_memory])"
   ]
  },
  {
   "cell_type": "markdown",
   "metadata": {},
   "source": [
    "<a class=\"anchor\" name=\"two3\"></a>\n",
    "## 2.3 Training and evaluating models"
   ]
  },
  {
   "cell_type": "markdown",
   "metadata": {},
   "source": [
    "#### 1. For each use case, use the corresponding ML Pipeline from previous step to train the models on the rebalanced training data from 2.1.2"
   ]
  },
  {
   "cell_type": "markdown",
   "metadata": {},
   "source": [
    "#### <li> Process activity"
   ]
  },
  {
   "cell_type": "markdown",
   "metadata": {},
   "source": [
    "* Decision Tree"
   ]
  },
  {
   "cell_type": "code",
   "execution_count": 118,
   "metadata": {
    "scrolled": false
   },
   "outputs": [],
   "source": [
    "dtModel_process = pipeline_process_dt.fit(combined_df_process)"
   ]
  },
  {
   "cell_type": "markdown",
   "metadata": {},
   "source": [
    "* Gradient Boosted Tree"
   ]
  },
  {
   "cell_type": "code",
   "execution_count": 119,
   "metadata": {},
   "outputs": [],
   "source": [
    "gbtModel_process = pipeline_process_gbt.fit(combined_df_process)"
   ]
  },
  {
   "cell_type": "markdown",
   "metadata": {},
   "source": [
    "#### <li> Memory activity"
   ]
  },
  {
   "cell_type": "markdown",
   "metadata": {},
   "source": [
    "* Decision Tree"
   ]
  },
  {
   "cell_type": "code",
   "execution_count": 120,
   "metadata": {},
   "outputs": [],
   "source": [
    "dtModel_memory = pipeline_memory_dt.fit(combined_df_memory)"
   ]
  },
  {
   "cell_type": "markdown",
   "metadata": {},
   "source": [
    "* Gradient Boosted Tree"
   ]
  },
  {
   "cell_type": "code",
   "execution_count": 121,
   "metadata": {},
   "outputs": [],
   "source": [
    "gbtModel_memory = pipeline_memory_gbt.fit(combined_df_memory)"
   ]
  },
  {
   "cell_type": "markdown",
   "metadata": {},
   "source": [
    "#### 2. For each use case, test the models on the testing data from 2.1.1 and display the count of each combination of attack label and prediction label in formats as below."
   ]
  },
  {
   "cell_type": "markdown",
   "metadata": {},
   "source": [
    "#### <li> Process activity"
   ]
  },
  {
   "cell_type": "markdown",
   "metadata": {},
   "source": [
    "* Decision Tree"
   ]
  },
  {
   "cell_type": "code",
   "execution_count": 122,
   "metadata": {
    "scrolled": true
   },
   "outputs": [],
   "source": [
    "dtPredictions_process = dtModel_process.transform(test_process)"
   ]
  },
  {
   "cell_type": "code",
   "execution_count": 123,
   "metadata": {
    "scrolled": false
   },
   "outputs": [
    {
     "name": "stdout",
     "output_type": "stream",
     "text": [
      "+------+----------+------+\n",
      "|attack|prediction| count|\n",
      "+------+----------+------+\n",
      "|     1|       0.0|  2176|\n",
      "|     0|       0.0|273504|\n",
      "|     1|       1.0| 56246|\n",
      "|     0|       1.0| 54026|\n",
      "+------+----------+------+\n",
      "\n"
     ]
    }
   ],
   "source": [
    "# count of each combination of attack label and prediction label\n",
    "dtPredictions_process_count = dtPredictions_process.groupby(\"attack\", \"prediction\").agg(F.count(\"*\").alias('count'))\n",
    "dtPredictions_process_count.show(4)"
   ]
  },
  {
   "cell_type": "markdown",
   "metadata": {},
   "source": [
    "It shows the elements of a confusion matrix. <br><br>\n",
    "In this case, <br>\n",
    "1st record indicates FN, <br>\n",
    "2nd record indicates TN, <br>\n",
    "3rd record indicates TP, <br>\n",
    "4th record indicates FP."
   ]
  },
  {
   "cell_type": "markdown",
   "metadata": {},
   "source": [
    "* Gradient Boosted Tree"
   ]
  },
  {
   "cell_type": "code",
   "execution_count": 124,
   "metadata": {},
   "outputs": [],
   "source": [
    "gbtPredictions_process = gbtModel_process.transform(test_process)"
   ]
  },
  {
   "cell_type": "code",
   "execution_count": 125,
   "metadata": {},
   "outputs": [
    {
     "name": "stdout",
     "output_type": "stream",
     "text": [
      "+------+----------+------+\n",
      "|attack|prediction| count|\n",
      "+------+----------+------+\n",
      "|     1|       1.0| 53682|\n",
      "|     0|       1.0| 26042|\n",
      "|     1|       0.0|  4740|\n",
      "|     0|       0.0|301488|\n",
      "+------+----------+------+\n",
      "\n"
     ]
    }
   ],
   "source": [
    "# count of each combination of attack label and prediction label\n",
    "gbtPredictions_process_count = gbtPredictions_process.groupby(\"attack\", \"prediction\").agg(F.count(\"*\").alias('count'))\n",
    "gbtPredictions_process_count.orderBy(\"prediction\",\"attack\", ascending = False).show(4)"
   ]
  },
  {
   "cell_type": "markdown",
   "metadata": {},
   "source": [
    "#### <li> Memory activity"
   ]
  },
  {
   "cell_type": "markdown",
   "metadata": {},
   "source": [
    "* Decision Tree"
   ]
  },
  {
   "cell_type": "code",
   "execution_count": 126,
   "metadata": {},
   "outputs": [],
   "source": [
    "dtPredictions_memory = dtModel_memory.transform(test_memory)"
   ]
  },
  {
   "cell_type": "code",
   "execution_count": 127,
   "metadata": {},
   "outputs": [
    {
     "name": "stdout",
     "output_type": "stream",
     "text": [
      "+------+----------+------+\n",
      "|attack|prediction| count|\n",
      "+------+----------+------+\n",
      "|     1|       1.0| 39874|\n",
      "|     0|       1.0| 46060|\n",
      "|     1|       0.0|  1444|\n",
      "|     0|       0.0|312859|\n",
      "+------+----------+------+\n",
      "\n"
     ]
    }
   ],
   "source": [
    "# count of each combination of attack label and prediction label\n",
    "dtPredictions_memory_count = dtPredictions_memory.groupby(\"attack\", \"prediction\").agg(F.count(\"*\").alias('count'))\n",
    "dtPredictions_memory_count.orderBy(\"prediction\", \"attack\", ascending = False).show(4)"
   ]
  },
  {
   "cell_type": "markdown",
   "metadata": {},
   "source": [
    "* Gradient Boosted Tree"
   ]
  },
  {
   "cell_type": "code",
   "execution_count": 128,
   "metadata": {},
   "outputs": [],
   "source": [
    "gbtPredictions_memory = gbtModel_memory.transform(test_memory)"
   ]
  },
  {
   "cell_type": "code",
   "execution_count": 129,
   "metadata": {},
   "outputs": [
    {
     "name": "stdout",
     "output_type": "stream",
     "text": [
      "+------+----------+------+\n",
      "|attack|prediction| count|\n",
      "+------+----------+------+\n",
      "|     1|       1.0| 39313|\n",
      "|     0|       1.0| 22570|\n",
      "|     1|       0.0|  2005|\n",
      "|     0|       0.0|336349|\n",
      "+------+----------+------+\n",
      "\n"
     ]
    }
   ],
   "source": [
    "# count of each combination of attack label and prediction label\n",
    "gbtPredictions_memory_count = gbtPredictions_memory.groupby(\"attack\", \"prediction\").agg(F.count(\"*\").alias('count'))\n",
    "gbtPredictions_memory_count.orderBy(\"prediction\",\"attack\", ascending = False).show(4)"
   ]
  },
  {
   "cell_type": "markdown",
   "metadata": {},
   "source": [
    "#### 3. Compute the AUC, accuracy, recall and precision for the attack label from each model testing result using pyspark MLlib / ML APIs. Discuss which metric is more proper for measuring the model performance on identifying attacks."
   ]
  },
  {
   "cell_type": "code",
   "execution_count": 130,
   "metadata": {},
   "outputs": [],
   "source": [
    "# Calculate metrics\n",
    "def compute_metrics(predictions):\n",
    "    TN = predictions.filter('prediction = 0 AND attack = 0').count()\n",
    "    TP = predictions.filter('prediction = 1 AND attack = 1').count()\n",
    "    FN = predictions.filter('prediction = 0 AND attack = 1').count()\n",
    "    FP = predictions.filter('prediction = 1 AND attack = 0').count() \n",
    "    accuracy = (TP + TN)/(TP + TN + FP + FN)  \n",
    "    recall = (TP/(TP + FN)) \n",
    "    precision = (TP/(TP+FP))\n",
    "    return accuracy, recall, precision"
   ]
  },
  {
   "cell_type": "code",
   "execution_count": 131,
   "metadata": {},
   "outputs": [],
   "source": [
    "# Use BinaryClassificationEvaluator to evaluate a model\n",
    "from pyspark.ml.evaluation import BinaryClassificationEvaluator\n",
    "evaluator = BinaryClassificationEvaluator(rawPredictionCol=\"rawPrediction\")"
   ]
  },
  {
   "cell_type": "markdown",
   "metadata": {},
   "source": [
    "#### <li> Process activity"
   ]
  },
  {
   "cell_type": "code",
   "execution_count": 132,
   "metadata": {},
   "outputs": [],
   "source": [
    "# accuracy, recall, precision\n",
    "metric_process_dt = compute_metrics(dtPredictions_process)\n",
    "metric_process_gbt = compute_metrics(gbtPredictions_process)"
   ]
  },
  {
   "cell_type": "code",
   "execution_count": 133,
   "metadata": {},
   "outputs": [
    {
     "name": "stdout",
     "output_type": "stream",
     "text": [
      "Decision tree model's\n",
      "accuracy: 0.8543808556504435, recall: 0.9627537571462805, precision:0.5100660185722576\n",
      "\n",
      "Gradient boosted tree model's\n",
      "accuracy: 0.920243968161844, recall: 0.9188661805484235, precision:0.6733480507751743\n"
     ]
    }
   ],
   "source": [
    "print(f\"Decision tree model's\\naccuracy: {metric_process_dt[0]}, recall: {metric_process_dt[1]}, precision:{metric_process_dt[2]}\")\n",
    "print(f\"\\nGradient boosted tree model's\\naccuracy: {metric_process_gbt[0]}, recall: {metric_process_gbt[1]}, precision:{metric_process_gbt[2]}\")"
   ]
  },
  {
   "cell_type": "code",
   "execution_count": 134,
   "metadata": {},
   "outputs": [],
   "source": [
    "# AUC\n",
    "dtPredictions_process_label = dtPredictions_process.withColumnRenamed(\"attack\", \"label\")\n",
    "auc_dt_process = evaluator.evaluate(dtPredictions_process_label, {evaluator.metricName: \"areaUnderROC\"})\n",
    "\n",
    "gbtPredictions_process_label = gbtPredictions_process.withColumnRenamed(\"attack\", \"label\")\n",
    "auc_gbt_process = evaluator.evaluate(gbtPredictions_process_label, {evaluator.metricName: \"areaUnderROC\"})"
   ]
  },
  {
   "cell_type": "code",
   "execution_count": 135,
   "metadata": {},
   "outputs": [
    {
     "name": "stdout",
     "output_type": "stream",
     "text": [
      "Decision tree model's AUC: 0.9088970569480738\n",
      "\n",
      "Gradient boosted tree model's AUC: 0.9782521934516786\n"
     ]
    }
   ],
   "source": [
    "print(f\"Decision tree model's AUC: {auc_dt_process}\")\n",
    "print(f\"\\nGradient boosted tree model's AUC: {auc_gbt_process}\")"
   ]
  },
  {
   "cell_type": "markdown",
   "metadata": {},
   "source": [
    "#### <li> Memory activity"
   ]
  },
  {
   "cell_type": "code",
   "execution_count": 136,
   "metadata": {},
   "outputs": [],
   "source": [
    "# accuracy, recall, precision\n",
    "metric_memory_dt = compute_metrics(dtPredictions_memory)\n",
    "metric_memory_gbt = compute_metrics(gbtPredictions_memory)"
   ]
  },
  {
   "cell_type": "code",
   "execution_count": 137,
   "metadata": {},
   "outputs": [
    {
     "name": "stdout",
     "output_type": "stream",
     "text": [
      "Decision tree model's\n",
      "accuracy: 0.8813103236332474, recall: 0.9650515513819643, precision:0.46400726138664555\n",
      "\n",
      "Gradient boosted tree model's\n",
      "accuracy: 0.9385988801635031, recall: 0.9514739338786969, precision:0.6352794790168543\n"
     ]
    }
   ],
   "source": [
    "print(f\"Decision tree model's\\naccuracy: {metric_memory_dt[0]}, recall: {metric_memory_dt[1]}, precision:{metric_memory_dt[2]}\")\n",
    "print(f\"\\nGradient boosted tree model's\\naccuracy: {metric_memory_gbt[0]}, recall: {metric_memory_gbt[1]}, precision:{metric_memory_gbt[2]}\")"
   ]
  },
  {
   "cell_type": "code",
   "execution_count": 138,
   "metadata": {},
   "outputs": [],
   "source": [
    "# AUC\n",
    "dtPredictions_memory_label = dtPredictions_memory.withColumnRenamed(\"attack\", \"label\")\n",
    "auc_dt_memory = evaluator.evaluate(dtPredictions_memory_label, {evaluator.metricName: \"areaUnderROC\"})\n",
    "\n",
    "gbtPredictions_memory_label = gbtPredictions_memory.withColumnRenamed(\"attack\", \"label\")\n",
    "auc_gbt_memory = evaluator.evaluate(gbtPredictions_memory_label, {evaluator.metricName: \"areaUnderROC\"})"
   ]
  },
  {
   "cell_type": "code",
   "execution_count": 139,
   "metadata": {
    "scrolled": true
   },
   "outputs": [
    {
     "name": "stdout",
     "output_type": "stream",
     "text": [
      "Decision tree model's AUC: 0.9268475290961417\n",
      "\n",
      "Gradient boosted tree model's AUC: 0.9839970752752281\n"
     ]
    }
   ],
   "source": [
    "print(f\"Decision tree model's AUC: {auc_dt_memory}\")\n",
    "print(f\"\\nGradient boosted tree model's AUC: {auc_gbt_memory}\")"
   ]
  },
  {
   "cell_type": "markdown",
   "metadata": {},
   "source": [
    "We checked the following metrics for measuring the model performance on identifying attacks.<br>\n",
    "- **Accuracy:** Out of all the classes, how much we predicted correctly.\n",
    "- **Recall:** Out of all the positive classes, how much we predicted correctly. \n",
    "- **Precision:** Out of all the positive classes we have predicted correctly, how many are actually positive.\n",
    "\n",
    "Accuracy is useful when the target class is well balanced. For our datasets, we have unbalanced class with 1:2 ratio (attack:non-attack). Thus, it would be not a good choice to use the accuaracy as the metric for measuring our models. For this reason, metrics like precision and recall are typically used because they take into account the type of error. However, we need to consider the balance between those metrics. <br>\n",
    "\n",
    "\n",
    "Therefore, there is a limit to evaluating the performance of a model only with those metrics in the classification problem. We have to consider various indicators according to the class distribution and situation that each data has. One of the proper indicators is AUC(Area Under Curve). AUC means the area formed by ROC curve and x-axis of the graph showing the model performance by using sensitivity and specificity concepts. <br>\n",
    "\n",
    "Thus, we will use AUC as the metric for measuring our models' performance on identifying attacks."
   ]
  },
  {
   "cell_type": "markdown",
   "metadata": {},
   "source": [
    "#### 4. Display the top-5 most important features in each model. Discuss which pipeline model is better, and whether the feature “ts” should be included in the model. And visualise the ROC curve for the better model you selected for each use case."
   ]
  },
  {
   "cell_type": "markdown",
   "metadata": {},
   "source": [
    "#### ○ 500 words max for the discussion"
   ]
  },
  {
   "cell_type": "markdown",
   "metadata": {},
   "source": [
    "https://www.timlrx.com/2018/06/19/feature-selection-using-feature-importance-score-creating-a-pyspark-estimator/"
   ]
  },
  {
   "cell_type": "code",
   "execution_count": 140,
   "metadata": {},
   "outputs": [],
   "source": [
    "# extract the feature importance of each column and get the corresponding feature name\n",
    "\n",
    "def ExtractFeatureImp(featureImp, dataset, featuresCol):\n",
    "    list_extract = []\n",
    "    for i in dataset.schema[featuresCol].metadata[\"ml_attr\"][\"attrs\"]:\n",
    "        list_extract = list_extract + dataset.schema[featuresCol].metadata[\"ml_attr\"][\"attrs\"][i]\n",
    "    varlist = pd.DataFrame(list_extract)\n",
    "    varlist['score'] = varlist['idx'].apply(lambda x: featureImp[x])\n",
    "    return(varlist.sort_values('score', ascending = False))"
   ]
  },
  {
   "cell_type": "code",
   "execution_count": 141,
   "metadata": {},
   "outputs": [],
   "source": [
    "# combined feature importances\n",
    "\n",
    "def CombinedFeature(columns, dataframe):\n",
    "    varlist = []\n",
    "    for col in columns:\n",
    "        columns = col\n",
    "        combined = dataframe[dataframe['name'].str.contains('^'+columns)==True]\n",
    "        sum_score = combined['score'].sum()\n",
    "        varlist.append((col, sum_score))    \n",
    "    return varlist"
   ]
  },
  {
   "cell_type": "markdown",
   "metadata": {},
   "source": [
    "#### <li> Process activity"
   ]
  },
  {
   "cell_type": "code",
   "execution_count": 142,
   "metadata": {},
   "outputs": [],
   "source": [
    "process_cols = numeric_process_attack + non_numerics_process"
   ]
  },
  {
   "cell_type": "markdown",
   "metadata": {},
   "source": [
    "* Decision Tree"
   ]
  },
  {
   "cell_type": "code",
   "execution_count": 143,
   "metadata": {},
   "outputs": [],
   "source": [
    "dt_process_importance = ExtractFeatureImp(dtModel_process.stages[-1].featureImportances, dtPredictions_process, \"features\")"
   ]
  },
  {
   "cell_type": "code",
   "execution_count": 144,
   "metadata": {
    "scrolled": true
   },
   "outputs": [
    {
     "data": {
      "text/plain": [
       "[('ts', 1.0), ('PID', 0.0), ('TSLPI', 0.0), ('TSLPU', 0.0), ('NICE', 0.0)]"
      ]
     },
     "execution_count": 144,
     "metadata": {},
     "output_type": "execute_result"
    }
   ],
   "source": [
    "# display the top-5 most important features\n",
    "dt_process_importance_sort = CombinedFeature(process_cols, dt_process_importance)\n",
    "sorted(dt_process_importance_sort, key=lambda x: x[1], reverse=True)[:5]"
   ]
  },
  {
   "cell_type": "markdown",
   "metadata": {},
   "source": [
    "* Gradient Boosted Tree"
   ]
  },
  {
   "cell_type": "code",
   "execution_count": 145,
   "metadata": {},
   "outputs": [],
   "source": [
    "gbt_process_importance = ExtractFeatureImp(gbtModel_process.stages[-1].featureImportances, gbtPredictions_process, \"features\")"
   ]
  },
  {
   "cell_type": "code",
   "execution_count": 146,
   "metadata": {},
   "outputs": [
    {
     "data": {
      "text/plain": [
       "[('ts', 0.9263824890944191),\n",
       " ('CMD', 0.030478845064252476),\n",
       " ('PID', 0.020188707244389145),\n",
       " ('Status', 0.019209922878508957),\n",
       " ('TSLPI', 0.0020753999514156714)]"
      ]
     },
     "execution_count": 146,
     "metadata": {},
     "output_type": "execute_result"
    }
   ],
   "source": [
    "# display the top-5 most important features\n",
    "gbt_process_importance_sort = CombinedFeature(process_cols, gbt_process_importance)\n",
    "sorted(gbt_process_importance_sort, key=lambda x: x[1], reverse=True)[:5]"
   ]
  },
  {
   "cell_type": "markdown",
   "metadata": {},
   "source": [
    "We have checked the AUC scores of each model in the previous section.\n",
    "Since the gradient boosted tree model has higher AUC, it seems it is better than the decision tree model.\n",
    "In addition, we can assume that the gradient boosted tree model is more stable, because there are some features whose importance scores are 0 in the decision tree model. \n",
    "It can be understood that the reason these observations appear is that the gradient boosted tree uses an ensemble method that combines several decision trees for improving its performance."
   ]
  },
  {
   "cell_type": "markdown",
   "metadata": {},
   "source": [
    "#### <li> Memory activity"
   ]
  },
  {
   "cell_type": "code",
   "execution_count": 147,
   "metadata": {},
   "outputs": [],
   "source": [
    "memory_cols = numeric_memory_attack + non_numerics_memory"
   ]
  },
  {
   "cell_type": "markdown",
   "metadata": {},
   "source": [
    "* Decision Tree"
   ]
  },
  {
   "cell_type": "code",
   "execution_count": 148,
   "metadata": {},
   "outputs": [],
   "source": [
    "dt_memory_importance = ExtractFeatureImp(dtModel_memory.stages[-1].featureImportances, dtPredictions_memory, \"features\")"
   ]
  },
  {
   "cell_type": "code",
   "execution_count": 149,
   "metadata": {},
   "outputs": [
    {
     "data": {
      "text/plain": [
       "[('ts', 1.0), ('PID', 0.0), ('MINFLT', 0.0), ('VSTEXT', 0.0), ('VSIZE', 0.0)]"
      ]
     },
     "execution_count": 149,
     "metadata": {},
     "output_type": "execute_result"
    }
   ],
   "source": [
    "# display the top-5 most important features\n",
    "dt_memory_importance_sort = CombinedFeature(memory_cols, dt_memory_importance)\n",
    "sorted(dt_memory_importance_sort, key=lambda x: x[1], reverse=True)[:5]"
   ]
  },
  {
   "cell_type": "markdown",
   "metadata": {},
   "source": [
    "* Gradient Boosted Tree"
   ]
  },
  {
   "cell_type": "code",
   "execution_count": 150,
   "metadata": {
    "scrolled": true
   },
   "outputs": [],
   "source": [
    "gbt_memory_importance = ExtractFeatureImp(gbtModel_memory.stages[-1].featureImportances, gbtPredictions_memory, \"features\")"
   ]
  },
  {
   "cell_type": "code",
   "execution_count": 151,
   "metadata": {},
   "outputs": [
    {
     "data": {
      "text/plain": [
       "[('ts', 0.9042065621225068),\n",
       " ('MINFLT', 0.03611709402548795),\n",
       " ('VSIZE', 0.015972314078437685),\n",
       " ('CMD', 0.01539686780029605),\n",
       " ('RSIZE', 0.013312900705922793)]"
      ]
     },
     "execution_count": 151,
     "metadata": {},
     "output_type": "execute_result"
    }
   ],
   "source": [
    "# display the top-5 most important features\n",
    "gbt_memory_importance_sort = CombinedFeature(memory_cols, gbt_memory_importance)\n",
    "sorted(gbt_memory_importance_sort, key=lambda x: x[1], reverse=True)[:5]"
   ]
  },
  {
   "cell_type": "markdown",
   "metadata": {},
   "source": [
    "We have checked the AUC scores of each model in the previous section. The gradient boosted tree model has higher AUC than the decision tree model.Also, we can see there are some features whose importance scores are 0 in the decision tree model.<br><br>\n",
    "For the same reason as in the previous process activity, the gradient boosted tree model is considered to be a better model than the decision tree in terms of performance and stability."
   ]
  },
  {
   "cell_type": "markdown",
   "metadata": {},
   "source": [
    "Statistically, the ts attributes in each activity(process and memory) appear to have the significantly highest feature importance scores in common across all models. However, our purpose for building the ML models, is to detect any real-time threats. Therefore, it is meaningless to predict the target value based on the past timestamp. Thus, the ts should be excluded from the model in this case."
   ]
  },
  {
   "cell_type": "markdown",
   "metadata": {},
   "source": [
    "https://stackoverflow.com/questions/62589383/training-the-classfication-model-with-the-timestamp\n",
    "https://arxiv.org/pdf/1812.02395.pdf"
   ]
  },
  {
   "cell_type": "markdown",
   "metadata": {},
   "source": [
    "#### 5. Using the pipeline model you selected in the previous step, re-train the pipeline model using a bigger set of rebalanced training data, with attack events and non-attack events being 1:2 ratio, while using all attack events data from the full data for both use cases. Then persist the better models for each use case."
   ]
  },
  {
   "cell_type": "markdown",
   "metadata": {},
   "source": [
    "#### ○ The models would be deployed in Part B of the assignment 2."
   ]
  },
  {
   "cell_type": "markdown",
   "metadata": {},
   "source": [
    "#### <li> Process activity"
   ]
  },
  {
   "cell_type": "markdown",
   "metadata": {},
   "source": [
    "- preparing the bigger training data."
   ]
  },
  {
   "cell_type": "code",
   "execution_count": 152,
   "metadata": {},
   "outputs": [
    {
     "name": "stdout",
     "output_type": "stream",
     "text": [
      "Before undersampling, attack: non-attack = 1: 5\n"
     ]
    }
   ],
   "source": [
    "major_df_process_new = train_process.filter(col(\"attack\") == 0)\n",
    "minor_df_process_new = train_process.filter(col(\"attack\") == 1)\n",
    "ratio_df_process_new = int(major_df_process_new.count()/minor_df_process_new.count())\n",
    "print(\"Before undersampling, attack: non-attack = 1:\",ratio_df_process_new)"
   ]
  },
  {
   "cell_type": "code",
   "execution_count": 153,
   "metadata": {},
   "outputs": [],
   "source": [
    "# attack events and non-attack events being 1:2 ratio\n",
    "sampled_majority_df_process_new = major_df_process_new.sample(False, 1/2)\n",
    "combined_df_process_new = sampled_majority_df_process_new.unionAll(minor_df_process_new)"
   ]
  },
  {
   "cell_type": "code",
   "execution_count": 154,
   "metadata": {},
   "outputs": [
    {
     "name": "stdout",
     "output_type": "stream",
     "text": [
      "After undersampling, attack: non-attack = 1: 2\n"
     ]
    }
   ],
   "source": [
    "major_process_new = combined_df_process_new.filter(col(\"attack\") == 0)\n",
    "minor_process_new = combined_df_process_new.filter(col(\"attack\") == 1)\n",
    "ratio_process_new = int(major_process_new.count()/minor_process_new.count())\n",
    "print(\"After undersampling, attack: non-attack = 1:\", ratio_process_new)"
   ]
  },
  {
   "cell_type": "code",
   "execution_count": 155,
   "metadata": {},
   "outputs": [
    {
     "data": {
      "text/plain": [
       "DataFrame[ts: int, PID: int, TRUN: int, TSLPI: int, TSLPU: int, POLI: string, NICE: int, PRI: int, RTPR: int, CPUNR: int, Status: string, EXC: int, State: string, CPU: double, CMD: string, attack: int, type: string]"
      ]
     },
     "execution_count": 155,
     "metadata": {},
     "output_type": "execute_result"
    }
   ],
   "source": [
    "# Cache the rebalanced training data\n",
    "combined_df_process_new.cache()"
   ]
  },
  {
   "cell_type": "code",
   "execution_count": 156,
   "metadata": {},
   "outputs": [
    {
     "name": "stdout",
     "output_type": "stream",
     "text": [
      "+------+------+\n",
      "|attack| Count|\n",
      "+------+------+\n",
      "|     1|232942|\n",
      "|     0|654918|\n",
      "+------+------+\n",
      "\n"
     ]
    }
   ],
   "source": [
    "# count of attack and non-attack in process activity\n",
    "combined_df_process_count_new = combined_df_process_new.groupby(\"attack\").agg(F.count(\"attack\").alias('Count'))\n",
    "combined_df_process_count_new.show()"
   ]
  },
  {
   "cell_type": "markdown",
   "metadata": {},
   "source": [
    "- re-bulid a Gradient Boosted Tree model for excluding ts from the original model"
   ]
  },
  {
   "cell_type": "code",
   "execution_count": 157,
   "metadata": {},
   "outputs": [],
   "source": [
    "# numeric columns & attack\n",
    "numeric_process_final = ['PID', 'TSLPI', 'TSLPU', 'NICE', 'PRI', 'CPUNR', 'EXC',  'CPU', 'attack']\n",
    "\n",
    "# non-numeric columns\n",
    "non_numerics_process_final = ['Status', 'CMD']"
   ]
  },
  {
   "cell_type": "code",
   "execution_count": 158,
   "metadata": {},
   "outputs": [],
   "source": [
    "# StringIndexer for categorical values\n",
    "\n",
    "inputCols_process_final = [x for x in non_numerics_process_final]\n",
    "outputCols_process_final = [f'{x}_index' for x in inputCols_process_final]\n",
    "\n",
    "stage_1_process_final = StringIndexer(inputCols=inputCols_process_final, outputCols=outputCols_process_final).setHandleInvalid(\"keep\")"
   ]
  },
  {
   "cell_type": "code",
   "execution_count": 159,
   "metadata": {},
   "outputs": [],
   "source": [
    "# One hot encoder for categorical values\n",
    "\n",
    "inputCols_OHE_process_final = [x for x in outputCols_process_final]\n",
    "outputCols_OHE_process_final = [f'{x}_vec' for x in inputCols_process_final]\n",
    "\n",
    "stage_2_process_final = OneHotEncoder(inputCols=inputCols_OHE_process_final, outputCols=outputCols_OHE_process_final)"
   ]
  },
  {
   "cell_type": "code",
   "execution_count": 160,
   "metadata": {},
   "outputs": [],
   "source": [
    "# VectorAssembler for all features\n",
    "\n",
    "inputCols_VA_process_final= outputCols_OHE_process_final +[x for x in numeric_process_final if x!='attack']\n",
    "stage_3_process_final = VectorAssembler(inputCols=inputCols_VA_process_final, outputCol='features')"
   ]
  },
  {
   "cell_type": "code",
   "execution_count": 161,
   "metadata": {},
   "outputs": [],
   "source": [
    "gbt_process_final = GBTClassifier(featuresCol=\"features\", labelCol=\"attack\", maxIter=10)"
   ]
  },
  {
   "cell_type": "code",
   "execution_count": 162,
   "metadata": {},
   "outputs": [],
   "source": [
    "#Implement the PipelineAPI\n",
    "pipeline_process_gbt_final = Pipeline(stages=[stage_1_process_final, stage_2_process_final, stage_3_process_final, gbt_process_final])"
   ]
  },
  {
   "cell_type": "code",
   "execution_count": 163,
   "metadata": {},
   "outputs": [],
   "source": [
    "# re-train the better pipeline model\n",
    "gbtModel_process_new = pipeline_process_gbt_final.fit(combined_df_process_new)"
   ]
  },
  {
   "cell_type": "code",
   "execution_count": 165,
   "metadata": {},
   "outputs": [],
   "source": [
    "#Saves the model to the filesystem\n",
    "gbtModel_process_new.save('Gradient_Boosted_Tree_Process')"
   ]
  },
  {
   "cell_type": "markdown",
   "metadata": {},
   "source": [
    "#### <li> Memory activity"
   ]
  },
  {
   "cell_type": "markdown",
   "metadata": {},
   "source": [
    "- preparing the bigger training data."
   ]
  },
  {
   "cell_type": "code",
   "execution_count": 166,
   "metadata": {},
   "outputs": [
    {
     "name": "stdout",
     "output_type": "stream",
     "text": [
      "Before undersampling, attack: non-attack = 1: 8\n"
     ]
    }
   ],
   "source": [
    "major_df_memory_new = train_memory.filter(col(\"attack\") == 0)\n",
    "minor_df_memory_new = train_memory.filter(col(\"attack\") == 1)\n",
    "ratio_df_memory_new = int(major_df_memory_new.count()/minor_df_memory_new.count())\n",
    "print(\"Before undersampling, attack: non-attack = 1:\",ratio_df_memory_new)"
   ]
  },
  {
   "cell_type": "code",
   "execution_count": 167,
   "metadata": {},
   "outputs": [],
   "source": [
    "# attack events and non-attack events being 1:2 ratio\n",
    "sampled_majority_df_memory_new = major_df_memory_new.sample(False, 1/4)\n",
    "combined_df_memory_new = sampled_majority_df_memory_new.unionAll(minor_df_memory_new)"
   ]
  },
  {
   "cell_type": "code",
   "execution_count": 168,
   "metadata": {},
   "outputs": [
    {
     "name": "stdout",
     "output_type": "stream",
     "text": [
      "After undersampling, attack: non-attack = 1: 2\n"
     ]
    }
   ],
   "source": [
    "major_memory_new = combined_df_memory_new.filter(col(\"attack\") == 0)\n",
    "minor_memory_new = combined_df_memory_new.filter(col(\"attack\") == 1)\n",
    "ratio_memory_new = int(major_memory_new.count()/minor_memory_new.count())\n",
    "print(\"After undersampling, attack: non-attack = 1:\", ratio_memory_new)"
   ]
  },
  {
   "cell_type": "code",
   "execution_count": 169,
   "metadata": {},
   "outputs": [
    {
     "data": {
      "text/plain": [
       "DataFrame[ts: int, PID: int, MINFLT: double, MAJFLT: double, VSTEXT: double, VSIZE: double, RSIZE: double, VGROW: double, RGROW: double, MEM: double, CMD: string, attack: int, type: string]"
      ]
     },
     "execution_count": 169,
     "metadata": {},
     "output_type": "execute_result"
    }
   ],
   "source": [
    "# Cache the rebalanced training data\n",
    "combined_df_memory_new.cache()"
   ]
  },
  {
   "cell_type": "code",
   "execution_count": 170,
   "metadata": {},
   "outputs": [
    {
     "name": "stdout",
     "output_type": "stream",
     "text": [
      "+------+------+\n",
      "|attack| Count|\n",
      "+------+------+\n",
      "|     1|164305|\n",
      "|     0|359135|\n",
      "+------+------+\n",
      "\n"
     ]
    }
   ],
   "source": [
    "# count of attack and non-attack in process activity\n",
    "combined_df_memory_count_new = combined_df_memory_new.groupby(\"attack\").agg(F.count(\"attack\").alias('Count'))\n",
    "combined_df_memory_count_new.show()"
   ]
  },
  {
   "cell_type": "markdown",
   "metadata": {},
   "source": [
    "- re-bulid a Gradient Boosted Tree model for excluding ts from the original model"
   ]
  },
  {
   "cell_type": "code",
   "execution_count": 171,
   "metadata": {},
   "outputs": [],
   "source": [
    "# numeric columns & attack\n",
    "numeric_memory_final =  ['PID', 'MINFLT', 'VSTEXT', 'VSIZE', 'RSIZE', 'RGROW', 'MEM', 'attack']\n",
    "\n",
    "# non-numeric columns \n",
    "non_numerics_memory_final =  ['CMD']"
   ]
  },
  {
   "cell_type": "code",
   "execution_count": 172,
   "metadata": {},
   "outputs": [],
   "source": [
    "# StringIndexer for categorical values\n",
    "\n",
    "inputCols_memory_final = [x for x in non_numerics_memory_final]\n",
    "outputCols_memory_final = [f'{x}_index' for x in inputCols_memory_final]\n",
    "\n",
    "stage_1_memory_final = StringIndexer(inputCols=inputCols_memory_final, outputCols=outputCols_memory_final).setHandleInvalid(\"keep\")"
   ]
  },
  {
   "cell_type": "code",
   "execution_count": 173,
   "metadata": {},
   "outputs": [],
   "source": [
    "# One hot encoder for categorical values\n",
    "\n",
    "inputCols_OHE_memory_final = [x for x in outputCols_memory_final]\n",
    "outputCols_OHE_memory_final = [f'{x}_vec' for x in inputCols_memory_final]\n",
    "\n",
    "stage_2_memory_final = OneHotEncoder(inputCols=inputCols_OHE_memory_final, outputCols=outputCols_OHE_memory_final)"
   ]
  },
  {
   "cell_type": "code",
   "execution_count": 174,
   "metadata": {},
   "outputs": [],
   "source": [
    "# VectorAssembler for all features\n",
    "\n",
    "inputCols_VA_memory_final = outputCols_OHE_memory_final +[x for x in numeric_memory_final if x!='attack']\n",
    "stage_3_memory_final = VectorAssembler(inputCols=inputCols_VA_memory_final, outputCol='features')"
   ]
  },
  {
   "cell_type": "code",
   "execution_count": 175,
   "metadata": {},
   "outputs": [],
   "source": [
    "gbt_memory_final = GBTClassifier(featuresCol=\"features\", labelCol=\"attack\", maxIter=10)"
   ]
  },
  {
   "cell_type": "code",
   "execution_count": 176,
   "metadata": {},
   "outputs": [],
   "source": [
    "#Implement the PipelineAPI\n",
    "pipeline_memory_gbt_final = Pipeline(stages=[stage_1_memory_final, stage_2_memory_final, stage_3_memory_final, gbt_memory_final])"
   ]
  },
  {
   "cell_type": "code",
   "execution_count": 177,
   "metadata": {},
   "outputs": [],
   "source": [
    "# re-train the better pipeline model\n",
    "gbtModel_memory_new = pipeline_memory_gbt_final.fit(combined_df_memory_new)"
   ]
  },
  {
   "cell_type": "code",
   "execution_count": 178,
   "metadata": {},
   "outputs": [],
   "source": [
    "#Saves the model to the filesystem\n",
    "gbtModel_memory_new.save('Gradient_Boosted_Tree_Memory')"
   ]
  },
  {
   "cell_type": "markdown",
   "metadata": {},
   "source": [
    "<a class=\"anchor\" name=\"three\"></a>\n",
    "## 3. Knowledge sharing"
   ]
  },
  {
   "cell_type": "markdown",
   "metadata": {},
   "source": [
    "#### In addition to building the machine learning models, the IT manager from StopHacking would like to learn more about the internals of Spark ML, and plan to replace existing scikit learn clustering logic by Spark KMeans clustering to cater large amounts of data. You are expected to combine the theory from the lecture and the observation from Spark UI to explain what happens when training the KMeans clustering model."
   ]
  },
  {
   "cell_type": "markdown",
   "metadata": {},
   "source": [
    "#### 3.1 How many jobs are observed when training the KMeans clustering model following the code below? Provide a screenshot from Spark UI for running a simple KMeans model training. "
   ]
  },
  {
   "cell_type": "code",
   "execution_count": 179,
   "metadata": {},
   "outputs": [],
   "source": [
    "from pyspark.ml.clustering import KMeans"
   ]
  },
  {
   "cell_type": "code",
   "execution_count": 180,
   "metadata": {},
   "outputs": [],
   "source": [
    "iris_df = spark.createDataFrame([\n",
    "(4.7, 3.2, 1.3, 0.2),\n",
    "(4.9, 3.1, 1.5, 0.1),\n",
    "(5.4, 3.9, 1.3, 0.4),\n",
    "(5.0, 3.4, 1.6, 0.4),\n",
    "(5.1, 3.8, 1.6, 0.2),\n",
    "(4.9, 2.4, 3.3, 1.0),\n",
    "(6.6, 2.9, 4.6, 1.3),\n",
    "(5.6, 3.0, 4.5, 1.5),\n",
    "(5.7, 2.6, 3.5, 1.0),\n",
    "(5.8, 2.6, 4.0, 1.2),\n",
    "(5.8, 2.8, 5.1, 2.4),\n",
    "(6.2, 2.8, 4.8, 1.8),\n",
    "(6.0, 3.0, 4.8, 1.8),\n",
    "(6.7, 3.1, 5.6, 2.4),\n",
    "(6.7, 3.0, 5.2, 2.3),\n",
    "(6.2, 3.4, 5.4, 2.3)],\n",
    "['sepal_length', 'sepal_width', 'petal_length', 'petal_width'])\n",
    "assembler = VectorAssembler(\n",
    "inputCols=['sepal_length', 'sepal_width', 'petal_length', 'petal_width'],\n",
    "outputCol='features')\n",
    "kmeans = KMeans(k=3).fit(assembler.transform(iris_df))"
   ]
  },
  {
   "attachments": {
    "KmeansUI.png": {
     "image/png": "[encoded data removed]"
    }
   },
   "cell_type": "markdown",
   "metadata": {},
   "source": [
    "![KmeansUI.png](attachment:KmeansUI.png)"
   ]
  },
  {
   "cell_type": "markdown",
   "metadata": {},
   "source": [
    "10 jobs are observed when training the KMeans clustering model."
   ]
  },
  {
   "cell_type": "markdown",
   "metadata": {},
   "source": [
    "#### 3.2 Combining the KMeans algorithm from the lecture, explain what each job in Spark UI represents"
   ]
  },
  {
   "cell_type": "markdown",
   "metadata": {},
   "source": [
    "#### ● 300 words max for the discussion"
   ]
  },
  {
   "cell_type": "markdown",
   "metadata": {},
   "source": [
    "####  ● Hint - you can also refer to the Spark source code on github\n",
    "https://github.com/apache/spark/blob/master/mllib/src/main/scala/org/apache/spark/mllib/clustering/KMeans.scala\n",
    "https://stackoverflow.com/questions/46236955/when-running-spark-mllib-kmeans-what-is-the-role-of-each-stage-on-website"
   ]
  },
  {
   "cell_type": "markdown",
   "metadata": {},
   "source": [
    "K-means is an iterative algorithm, where in each iteration points are assigned to the nearest centroid and centroids are updated based on the assigned points. This process is repeated until convergence criteria is met. We have found there were 10 jobs when training the KMeans clustering model. These jobs can be classified into 6 categories, as follows:\n",
    "\n",
    "* takeSample: Assign initial values for the k=3 seed cluster centroids into each processor randomly \n",
    "* sum: Assign each data point to the cluster which has the closest mean in each processor \n",
    "* collect at KMeans: Collect each data points in the same cluster in each processor\n",
    "* countByValue: Count the number of data points in each cluster to re-calculate the mean\n",
    "* collectAsMap: Each data point is fetched to the driver and broadcasted to be used in the next iteration\n",
    "* collect at ClusteringSummary: Collect each data points in each cluster across all the processors to find the best centroids and assign data points into an appropriate cluster. It is repeated until the clusters are stable(no change of memebers)"
   ]
  }
 ],
 "metadata": {
  "kernelspec": {
   "display_name": "Python 3",
   "language": "python",
   "name": "python3"
  },
  "language_info": {
   "codemirror_mode": {
    "name": "ipython",
    "version": 3
   },
   "file_extension": ".py",
   "mimetype": "text/x-python",
   "name": "python",
   "nbconvert_exporter": "python",
   "pygments_lexer": "ipython3",
   "version": "3.7.4"
  }
 },
 "nbformat": 4,
 "nbformat_minor": 4
}
